{
 "cells": [
  {
   "cell_type": "code",
   "execution_count": 1,
   "metadata": {},
   "outputs": [],
   "source": [
    "import pandas as pd \n",
    "import numpy as np\n",
    "from math import log2\n",
    "from Node import * \n",
    "from ImpurityMeasure import * "
   ]
  },
  {
   "cell_type": "code",
   "execution_count": 2,
   "metadata": {},
   "outputs": [],
   "source": [
    "PATH = '/Users/Sathiesh/MachineLearning/INF283/project_1/csv/tennis.csv' #TODO fiks"
   ]
  },
  {
   "cell_type": "code",
   "execution_count": 3,
   "metadata": {},
   "outputs": [],
   "source": [
    "df = pd.read_csv(PATH)\n",
    "y = df['play']"
   ]
  },
  {
   "cell_type": "code",
   "execution_count": 4,
   "metadata": {},
   "outputs": [],
   "source": [
    "X = df.drop(['day','play'], axis=1)"
   ]
  },
  {
   "cell_type": "code",
   "execution_count": 5,
   "metadata": {},
   "outputs": [],
   "source": [
    "#Sender inn dataframe til meg "
   ]
  },
  {
   "cell_type": "code",
   "execution_count": null,
   "metadata": {},
   "outputs": [],
   "source": []
  },
  {
   "cell_type": "code",
   "execution_count": 6,
   "metadata": {},
   "outputs": [],
   "source": [
    "def dataframe_to_numpy(X,y): \n",
    "    for column in X.columns: \n",
    "        X[column] = pd.factorize(X[column])[0]\n",
    "    X = X.values #numpy array \n",
    "    y = pd.factorize(y)[0]\n",
    "    return X,y"
   ]
  },
  {
   "cell_type": "code",
   "execution_count": 7,
   "metadata": {},
   "outputs": [],
   "source": [
    "X,y = dataframe_to_numpy(X,y)"
   ]
  },
  {
   "cell_type": "code",
   "execution_count": 8,
   "metadata": {},
   "outputs": [],
   "source": [
    "x = X[:]"
   ]
  },
  {
   "cell_type": "code",
   "execution_count": 9,
   "metadata": {},
   "outputs": [],
   "source": [
    "#X= X.T"
   ]
  },
  {
   "cell_type": "code",
   "execution_count": 10,
   "metadata": {},
   "outputs": [],
   "source": [
    "def count_values(y): \n",
    "    result = {} \n",
    "    for value in y: \n",
    "        if value not in result: result[value] = 1\n",
    "        else: result[value]+=1\n",
    "    return result"
   ]
  },
  {
   "cell_type": "code",
   "execution_count": 11,
   "metadata": {},
   "outputs": [],
   "source": [
    "def find_best_split(categories, y, impurity_measure): \n",
    "    impurity_measure_method = getattr(ImpurityMeasure(), impurity_measure)\n",
    "    \n",
    "    impurity_measure_src = impurity_measure_method(y)\n",
    "    best_ig_score = []\n",
    "    for cat in categories:\n",
    "        #KOMMENTAR en cat kan typisk være outlook\n",
    "        #EN CAT KAN INNEHOLDE VARIABLENE: sunny, overcast, rain \n",
    "        variables_dic = {}\n",
    "        impurity_measure_of_branches = 0 if impurity_measure=='entropy' else impurity_measure_src\n",
    "        \n",
    "        #Variabel og y veridene til den \n",
    "        for index,var in enumerate(cat): \n",
    "            if var not in variables_dic: variables_dic[var] = []\n",
    "            variables_dic[var].append(y[index])\n",
    " \n",
    "        #Regne ut entropien for hver av variablene og legge dem sammen\n",
    "        for key, var_y in variables_dic.items(): \n",
    "            result = impurity_measure_method(var_y)*(len(var_y)/len(y))\n",
    "            \n",
    "            #TODO få dette til å funke ordentlig\n",
    "            #Regne ut i fra om det er entropy eller gini\n",
    "            if(impurity_measure == 'entropy'):\n",
    "                impurity_measure_of_branches += result\n",
    "            else: \n",
    "                 impurity_measure_of_branches -= result\n",
    "                \n",
    "        information_gain = impurity_measure_src - impurity_measure_of_branches \n",
    "        best_ig_score.append(information_gain)\n",
    "    print(best_ig_score)\n",
    "    return np.argmax(best_ig_score)"
   ]
  },
  {
   "cell_type": "code",
   "execution_count": 12,
   "metadata": {},
   "outputs": [],
   "source": [
    "import operator #TODO Kan jeg bruke denne? \n",
    "def find_dominant_value(values_dic): \n",
    "    return max(values_dic, key=values_dic.get)"
   ]
  },
  {
   "cell_type": "code",
   "execution_count": 13,
   "metadata": {},
   "outputs": [],
   "source": [
    "def create_tree(X,y, node, impurity_measure): \n",
    "    #Find best category \n",
    "    if len(X) == 0: \n",
    "        return node  #hva skal jeg retunere?????  \n",
    "    else: \n",
    "        index = find_best_split(X,y,impurity_measure) #finner indeksen til den beste kategorien å splitte på\n",
    "        \n",
    "        node.category = index\n",
    "        node.data = X[index] #add the category data to the node \n",
    "        child_dic = count_values(node.data) #count num variables for the category \n",
    "    \n",
    "        for i in child_dic.keys(): #Add variable name and Node as child to the Node\n",
    "            node.add_child(i,Node()) #Verdi[0] variable navn som er gitt som tall og [1] er selve noden\n",
    "    \n",
    "        for var, child_node in node.children.items():\n",
    "            child_node.parent_node = node\n",
    "            indices = [i for i, x in enumerate(node.data) if x == var] #indeksene til variablene til i datasettet til forelder noden\n",
    "            result = count_values(y[indices]) #sjekker hvor mange true false man har for variabelen\n",
    "            if len(result) == 1: \n",
    "                child_node.data = next(iter(result.keys())) #Alle er like, så vi gir verdi \n",
    "                child_node.isLeaf = True\n",
    "            \n",
    "            elif len(X) == 1: #De er fortsatt ikke clean, men da må man finne den med flest dominerende\n",
    "                child_node.data = find_dominant_value(result)\n",
    "                child_node.isLeaf = True\n",
    "                            \n",
    "            if not child_node.isLeaf:\n",
    "                node_X = np.delete(X, (index), axis=0)\n",
    "                create_tree(node_X[:,indices],y[indices], child_node, impurity_measure) #når jeg skriver return her, så fucker alt seg "
   ]
  },
  {
   "cell_type": "code",
   "execution_count": 26,
   "metadata": {},
   "outputs": [],
   "source": [
    "def learn(X,y,impurity_measure = 'entropy',  pruning=False): \n",
    "    X_pruning, y_pruning = [],[]\n",
    "    if pruning: \n",
    "        X, X_pruning, y, y_pruning =  get_pruning_set(X,y)\n",
    "        \n",
    "   \n",
    "    root = Node()\n",
    "    create_tree(X.T,y, root,impurity_measure)#Gir inn X.T Slik at hver av kategoriene kommer på en linje \n",
    "    if pruning: \n",
    "        #Fikse treet med pruning data\n",
    "        print('hallo')\n",
    "    return root"
   ]
  },
  {
   "cell_type": "code",
   "execution_count": 27,
   "metadata": {},
   "outputs": [],
   "source": [
    "def get_pruning_set(X,y, size=0.2): \n",
    "    #lage en numpy funksjon som tar \n",
    "    random_selection = np.random.randint(len(y), size=int(len(y)*size))\n",
    "    X_pruning, y_pruning = X[random_selection],  y[random_selection]\n",
    "    X_train, y_train = np.delete(X, (random_selection), axis=0), np.delete(y, (random_selection), axis=0)\n",
    "    return X_train, X_pruning, y_train, y_pruning"
   ]
  },
  {
   "cell_type": "code",
   "execution_count": 28,
   "metadata": {},
   "outputs": [
    {
     "name": "stdout",
     "output_type": "stream",
     "text": [
      "[0.24674981977443933, 0.02922256565895487, 0.15183550136234159, 0.04812703040826949]\n",
      "[0.5709505944546686, 0.9709505944546686, 0.01997309402197489]\n",
      "[0.01997309402197489, 0.01997309402197489, 0.9709505944546686]\n"
     ]
    }
   ],
   "source": [
    "tree = learn(X,y)"
   ]
  },
  {
   "cell_type": "code",
   "execution_count": 29,
   "metadata": {},
   "outputs": [
    {
     "data": {
      "text/plain": [
       "True"
      ]
     },
     "execution_count": 29,
     "metadata": {},
     "output_type": "execute_result"
    }
   ],
   "source": [
    "tree.children[0].children[1].isLeaf #Denne blir ikke leaf hvis jeg skriver return over*"
   ]
  },
  {
   "cell_type": "code",
   "execution_count": 31,
   "metadata": {},
   "outputs": [
    {
     "data": {
      "text/plain": [
       "{0: <Node.Node at 0x1156a47f0>,\n",
       " 1: <Node.Node at 0x1156a46a0>,\n",
       " 2: <Node.Node at 0x1156a4780>}"
      ]
     },
     "execution_count": 31,
     "metadata": {},
     "output_type": "execute_result"
    }
   ],
   "source": [
    "tree.children"
   ]
  },
  {
   "cell_type": "code",
   "execution_count": 32,
   "metadata": {},
   "outputs": [],
   "source": [
    "def case_prediction(x,node): \n",
    "    while len(x) > 0: \n",
    "        cat_var = x[node.category]\n",
    "        x = np.delete(x, node.category, axis=0)\n",
    "        child_node = node.children[cat_var]\n",
    "        if child_node.isLeaf: \n",
    "            return child_node.data\n",
    "        node = child_node"
   ]
  },
  {
   "cell_type": "code",
   "execution_count": 33,
   "metadata": {},
   "outputs": [],
   "source": [
    "def predict(x, node):\n",
    "    result = []\n",
    "    for i in x: \n",
    "        result.append(case_prediction(i,node))\n",
    "    return np.array(result)"
   ]
  },
  {
   "cell_type": "code",
   "execution_count": 34,
   "metadata": {},
   "outputs": [],
   "source": [
    "def accuracy(y, pred): \n",
    "    result = 0\n",
    "    for idx, y_ in enumerate(pred): \n",
    "        if y_ == y[idx]: result+=1\n",
    "    return (result/len(y))"
   ]
  },
  {
   "cell_type": "code",
   "execution_count": 35,
   "metadata": {},
   "outputs": [],
   "source": [
    "y_ = predict(x,tree)"
   ]
  },
  {
   "cell_type": "code",
   "execution_count": 36,
   "metadata": {},
   "outputs": [
    {
     "data": {
      "text/plain": [
       "1.0"
      ]
     },
     "execution_count": 36,
     "metadata": {},
     "output_type": "execute_result"
    }
   ],
   "source": [
    "accuracy(y,y_)"
   ]
  },
  {
   "cell_type": "code",
   "execution_count": null,
   "metadata": {},
   "outputs": [],
   "source": []
  },
  {
   "cell_type": "code",
   "execution_count": null,
   "metadata": {},
   "outputs": [],
   "source": []
  },
  {
   "cell_type": "code",
   "execution_count": null,
   "metadata": {},
   "outputs": [],
   "source": [
    "def factorial(n):\n",
    "    if n == 0:\n",
    "        return 1\n",
    "    else:\n",
    "        return n * factorial(n - 1)"
   ]
  },
  {
   "cell_type": "code",
   "execution_count": null,
   "metadata": {},
   "outputs": [],
   "source": [
    "factorial(4)"
   ]
  },
  {
   "cell_type": "code",
   "execution_count": null,
   "metadata": {},
   "outputs": [],
   "source": []
  }
 ],
 "metadata": {
  "kernelspec": {
   "display_name": "DAT158",
   "language": "python",
   "name": "dat158"
  },
  "language_info": {
   "codemirror_mode": {
    "name": "ipython",
    "version": 3
   },
   "file_extension": ".py",
   "mimetype": "text/x-python",
   "name": "python",
   "nbconvert_exporter": "python",
   "pygments_lexer": "ipython3",
   "version": "3.6.6"
  }
 },
 "nbformat": 4,
 "nbformat_minor": 2
}
