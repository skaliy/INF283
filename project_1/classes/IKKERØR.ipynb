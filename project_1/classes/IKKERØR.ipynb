{
 "cells": [
  {
   "cell_type": "code",
   "execution_count": 27,
   "metadata": {},
   "outputs": [],
   "source": [
    "import pandas as pd \n",
    "import numpy as np\n",
    "from math import log2\n",
    "from Node import * \n",
    "from ImpurityMeasure import * "
   ]
  },
  {
   "cell_type": "code",
   "execution_count": 28,
   "metadata": {},
   "outputs": [],
   "source": [
    "PATH = '/Users/Sathiesh/MachineLearning/INF283/project_1/csv/tennis.csv' #TODO fiks"
   ]
  },
  {
   "cell_type": "code",
   "execution_count": 29,
   "metadata": {},
   "outputs": [],
   "source": [
    "df = pd.read_csv(PATH)\n",
    "y = df['play']"
   ]
  },
  {
   "cell_type": "code",
   "execution_count": 30,
   "metadata": {},
   "outputs": [],
   "source": [
    "X = df.drop(['day','play'], axis=1)"
   ]
  },
  {
   "cell_type": "code",
   "execution_count": 31,
   "metadata": {},
   "outputs": [
    {
     "data": {
      "text/html": [
       "<div>\n",
       "<style scoped>\n",
       "    .dataframe tbody tr th:only-of-type {\n",
       "        vertical-align: middle;\n",
       "    }\n",
       "\n",
       "    .dataframe tbody tr th {\n",
       "        vertical-align: top;\n",
       "    }\n",
       "\n",
       "    .dataframe thead th {\n",
       "        text-align: right;\n",
       "    }\n",
       "</style>\n",
       "<table border=\"1\" class=\"dataframe\">\n",
       "  <thead>\n",
       "    <tr style=\"text-align: right;\">\n",
       "      <th></th>\n",
       "      <th>outlook</th>\n",
       "      <th>temp</th>\n",
       "      <th>humidity</th>\n",
       "      <th>wind</th>\n",
       "    </tr>\n",
       "  </thead>\n",
       "  <tbody>\n",
       "    <tr>\n",
       "      <th>0</th>\n",
       "      <td>Sunny</td>\n",
       "      <td>Hot</td>\n",
       "      <td>High</td>\n",
       "      <td>Weak</td>\n",
       "    </tr>\n",
       "    <tr>\n",
       "      <th>1</th>\n",
       "      <td>Sunny</td>\n",
       "      <td>Hot</td>\n",
       "      <td>High</td>\n",
       "      <td>Strong</td>\n",
       "    </tr>\n",
       "    <tr>\n",
       "      <th>2</th>\n",
       "      <td>Overcast</td>\n",
       "      <td>Hot</td>\n",
       "      <td>High</td>\n",
       "      <td>Weak</td>\n",
       "    </tr>\n",
       "    <tr>\n",
       "      <th>3</th>\n",
       "      <td>Rain</td>\n",
       "      <td>Mild</td>\n",
       "      <td>High</td>\n",
       "      <td>Weak</td>\n",
       "    </tr>\n",
       "    <tr>\n",
       "      <th>4</th>\n",
       "      <td>Rain</td>\n",
       "      <td>Cool</td>\n",
       "      <td>Normal</td>\n",
       "      <td>Weak</td>\n",
       "    </tr>\n",
       "    <tr>\n",
       "      <th>5</th>\n",
       "      <td>Rain</td>\n",
       "      <td>Cool</td>\n",
       "      <td>Normal</td>\n",
       "      <td>Strong</td>\n",
       "    </tr>\n",
       "    <tr>\n",
       "      <th>6</th>\n",
       "      <td>Overcast</td>\n",
       "      <td>Cool</td>\n",
       "      <td>Normal</td>\n",
       "      <td>Strong</td>\n",
       "    </tr>\n",
       "    <tr>\n",
       "      <th>7</th>\n",
       "      <td>Sunny</td>\n",
       "      <td>Mild</td>\n",
       "      <td>High</td>\n",
       "      <td>Weak</td>\n",
       "    </tr>\n",
       "    <tr>\n",
       "      <th>8</th>\n",
       "      <td>Sunny</td>\n",
       "      <td>Cool</td>\n",
       "      <td>Normal</td>\n",
       "      <td>Weak</td>\n",
       "    </tr>\n",
       "    <tr>\n",
       "      <th>9</th>\n",
       "      <td>Rain</td>\n",
       "      <td>Mild</td>\n",
       "      <td>Normal</td>\n",
       "      <td>Weak</td>\n",
       "    </tr>\n",
       "    <tr>\n",
       "      <th>10</th>\n",
       "      <td>Sunny</td>\n",
       "      <td>Mild</td>\n",
       "      <td>Normal</td>\n",
       "      <td>Strong</td>\n",
       "    </tr>\n",
       "    <tr>\n",
       "      <th>11</th>\n",
       "      <td>Overcast</td>\n",
       "      <td>Mild</td>\n",
       "      <td>High</td>\n",
       "      <td>Strong</td>\n",
       "    </tr>\n",
       "    <tr>\n",
       "      <th>12</th>\n",
       "      <td>Overcast</td>\n",
       "      <td>Hot</td>\n",
       "      <td>Normal</td>\n",
       "      <td>Weak</td>\n",
       "    </tr>\n",
       "    <tr>\n",
       "      <th>13</th>\n",
       "      <td>Rain</td>\n",
       "      <td>Mild</td>\n",
       "      <td>High</td>\n",
       "      <td>Strong</td>\n",
       "    </tr>\n",
       "  </tbody>\n",
       "</table>\n",
       "</div>"
      ],
      "text/plain": [
       "     outlook  temp humidity    wind\n",
       "0      Sunny   Hot     High    Weak\n",
       "1      Sunny   Hot     High  Strong\n",
       "2   Overcast   Hot     High    Weak\n",
       "3       Rain  Mild     High    Weak\n",
       "4       Rain  Cool   Normal    Weak\n",
       "5       Rain  Cool   Normal  Strong\n",
       "6   Overcast  Cool   Normal  Strong\n",
       "7      Sunny  Mild     High    Weak\n",
       "8      Sunny  Cool   Normal    Weak\n",
       "9       Rain  Mild   Normal    Weak\n",
       "10     Sunny  Mild   Normal  Strong\n",
       "11  Overcast  Mild     High  Strong\n",
       "12  Overcast   Hot   Normal    Weak\n",
       "13      Rain  Mild     High  Strong"
      ]
     },
     "execution_count": 31,
     "metadata": {},
     "output_type": "execute_result"
    }
   ],
   "source": [
    "X"
   ]
  },
  {
   "cell_type": "code",
   "execution_count": 32,
   "metadata": {},
   "outputs": [],
   "source": [
    "#Sender inn dataframe til meg "
   ]
  },
  {
   "cell_type": "code",
   "execution_count": 33,
   "metadata": {},
   "outputs": [],
   "source": [
    "def dataframe_to_numpy(X,y): \n",
    "    for column in X.columns: \n",
    "        X[column] = pd.factorize(X[column])[0]\n",
    "    X = X.values #numpy array \n",
    "    y = pd.factorize(y)[0]\n",
    "    return X,y"
   ]
  },
  {
   "cell_type": "code",
   "execution_count": 34,
   "metadata": {},
   "outputs": [],
   "source": [
    "X,y = dataframe_to_numpy(X,y)"
   ]
  },
  {
   "cell_type": "code",
   "execution_count": 35,
   "metadata": {},
   "outputs": [],
   "source": [
    "x = X[:]"
   ]
  },
  {
   "cell_type": "code",
   "execution_count": 36,
   "metadata": {},
   "outputs": [
    {
     "data": {
      "text/plain": [
       "array([[0, 0, 0, 0],\n",
       "       [0, 0, 0, 1],\n",
       "       [1, 0, 0, 0],\n",
       "       [2, 1, 0, 0],\n",
       "       [2, 2, 1, 0],\n",
       "       [2, 2, 1, 1],\n",
       "       [1, 2, 1, 1],\n",
       "       [0, 1, 0, 0],\n",
       "       [0, 2, 1, 0],\n",
       "       [2, 1, 1, 0],\n",
       "       [0, 1, 1, 1],\n",
       "       [1, 1, 0, 1],\n",
       "       [1, 0, 1, 0],\n",
       "       [2, 1, 0, 1]])"
      ]
     },
     "execution_count": 36,
     "metadata": {},
     "output_type": "execute_result"
    }
   ],
   "source": [
    "x"
   ]
  },
  {
   "cell_type": "code",
   "execution_count": 37,
   "metadata": {},
   "outputs": [],
   "source": [
    "X= X.T"
   ]
  },
  {
   "cell_type": "code",
   "execution_count": 38,
   "metadata": {},
   "outputs": [],
   "source": [
    "#Hvor mange true og hvor mange false \n",
    "#Returnerer en dictinary\n",
    "def count_values(y): \n",
    "    result = {} \n",
    "    for value in y: \n",
    "        if value not in result: result[value] = 1\n",
    "        else: result[value]+=1\n",
    "    return result"
   ]
  },
  {
   "cell_type": "code",
   "execution_count": 39,
   "metadata": {},
   "outputs": [],
   "source": [
    "def entropy(y):\n",
    "    result = count_values(y)\n",
    "    e = 0\n",
    "    for val in result.values(): \n",
    "        p = float(val/len(y)) \n",
    "        e = e -p*log2(p)\n",
    "    return e"
   ]
  },
  {
   "cell_type": "code",
   "execution_count": 40,
   "metadata": {},
   "outputs": [
    {
     "name": "stdout",
     "output_type": "stream",
     "text": [
      "0.9402859586706311\n"
     ]
    }
   ],
   "source": [
    "print(entropy(y))"
   ]
  },
  {
   "cell_type": "code",
   "execution_count": 41,
   "metadata": {},
   "outputs": [],
   "source": [
    "result = getattr(ImpurityMeasure(), 'entropy')(y)"
   ]
  },
  {
   "cell_type": "code",
   "execution_count": 42,
   "metadata": {},
   "outputs": [],
   "source": [
    "def gini(y): \n",
    "    result = count_values(y)\n",
    "    g = 1\n",
    "    for val in result.values(): \n",
    "        p = float(val/len(y))\n",
    "        g = g - (p)**2\n",
    "    return g"
   ]
  },
  {
   "cell_type": "code",
   "execution_count": 43,
   "metadata": {},
   "outputs": [],
   "source": [
    "def find_best_split(categories, y): \n",
    "    entropy_src = entropy(y)\n",
    "    best_ig_score = []\n",
    "    for cat in categories:\n",
    "        #KOMMENTAR en cat kan typisk være outlook\n",
    "        #EN CAT KAN INNEHOLDE VARIABLENE: sunny, overcast, rain \n",
    "        variables_dic = {}\n",
    "        entropy_of_branches = 0\n",
    "        \n",
    "        #Variabel og y veridene til den \n",
    "        for index,var in enumerate(cat): \n",
    "            if var not in variables_dic: variables_dic[var] = []\n",
    "            variables_dic[var].append(y[index])\n",
    " \n",
    "        #Regne ut entropien for hver av variablene og legge dem sammen\n",
    "        for key, var_y in variables_dic.items(): \n",
    "            result = entropy(var_y)*(len(var_y)/len(y))\n",
    "            entropy_of_branches += result\n",
    "        \n",
    "        information_gain = entropy_src - entropy_of_branches \n",
    "        best_ig_score.append(information_gain)\n",
    "    return np.argmax(best_ig_score)"
   ]
  },
  {
   "cell_type": "code",
   "execution_count": 44,
   "metadata": {},
   "outputs": [],
   "source": [
    "import operator #TODO Kan jeg bruke denne? \n",
    "def find_dominant_value(values_dic): \n",
    "    return max(values_dic, key=values_dic.get)"
   ]
  },
  {
   "cell_type": "code",
   "execution_count": 56,
   "metadata": {},
   "outputs": [],
   "source": [
    "def create_tree(X,y, node): \n",
    "    #Find best category \n",
    "    if len(X) == 0: \n",
    "        return node  #hva skal jeg retunere?????  \n",
    "    else: \n",
    "        index = find_best_split(X,y)\n",
    "        node.category = index\n",
    "        node.data = X[index] #add the category data to the node \n",
    "        child_dic = count_values(node.data) #count num variables for the category \n",
    "    \n",
    "        for i in child_dic.keys(): #Add variable name and Node as child to the Node\n",
    "            node.add_child(i,Node()) #Verdi[0] variable navn som er gitt som tall og [1] er selve noden\n",
    "    \n",
    "        for var, child_node in node.children.items():\n",
    "            child_node.parent_node = node\n",
    "            indices = [i for i, x in enumerate(node.data) if x == var] #indeksene til variablene til i datasettet til forelder noden\n",
    "            result = count_values(y[indices]) #sjekker hvor mange true false man har for variabelen\n",
    "            if len(result) == 1: \n",
    "                child_node.data = next(iter(result.keys())) #Alle er like, så vi gir verdi \n",
    "                child_node.isLeaf = True\n",
    "            \n",
    "            elif len(X) == 1: #De er fortsatt ikke clean, men da må man finne den med flest dominerende\n",
    "                child_node.data = find_dominant_value(result)\n",
    "                child_node.isLeaf = True\n",
    "                            \n",
    "            if not child_node.isLeaf:\n",
    "                node_X = np.delete(X, (index), axis=0)\n",
    "                create_tree(node_X[:,indices],y[indices], child_node) #når jeg skriver return her, så fucker alt seg "
   ]
  },
  {
   "cell_type": "code",
   "execution_count": null,
   "metadata": {},
   "outputs": [],
   "source": []
  },
  {
   "cell_type": "code",
   "execution_count": 57,
   "metadata": {},
   "outputs": [],
   "source": [
    "root = Node()\n",
    "denne = create_tree(X,y, root)"
   ]
  },
  {
   "cell_type": "code",
   "execution_count": 59,
   "metadata": {},
   "outputs": [
    {
     "data": {
      "text/plain": [
       "0"
      ]
     },
     "execution_count": 59,
     "metadata": {},
     "output_type": "execute_result"
    }
   ],
   "source": [
    "root.children[0].children[0].data #Denne blir ikke leaf hvis jeg skriver return over*"
   ]
  },
  {
   "cell_type": "code",
   "execution_count": 48,
   "metadata": {},
   "outputs": [],
   "source": [
    "def case_prediction(x,node): \n",
    "    while len(x) > 0: \n",
    "        cat_var = x[node.category]\n",
    "        x = np.delete(x, node.category, axis=0)\n",
    "        child_node = node.children[cat_var]\n",
    "        if child_node.isLeaf: \n",
    "            return child_node.data\n",
    "        node = child_node"
   ]
  },
  {
   "cell_type": "code",
   "execution_count": 49,
   "metadata": {},
   "outputs": [],
   "source": [
    "def predict(x, node):\n",
    "    result = []\n",
    "    for i in x: \n",
    "        result.append(case_prediction(i,node))\n",
    "    return np.array(result)"
   ]
  },
  {
   "cell_type": "code",
   "execution_count": 50,
   "metadata": {},
   "outputs": [],
   "source": [
    "def accuracy(y, pred): \n",
    "    result = 0\n",
    "    for idx, y_ in enumerate(pred): \n",
    "        if y_ == y[idx]: result+=1\n",
    "    return (result/len(y))"
   ]
  },
  {
   "cell_type": "code",
   "execution_count": 51,
   "metadata": {},
   "outputs": [],
   "source": [
    "y_ = predict(x,root)"
   ]
  },
  {
   "cell_type": "code",
   "execution_count": 52,
   "metadata": {},
   "outputs": [
    {
     "data": {
      "text/plain": [
       "0.7857142857142857"
      ]
     },
     "execution_count": 52,
     "metadata": {},
     "output_type": "execute_result"
    }
   ],
   "source": [
    "accuracy(y,y_)"
   ]
  },
  {
   "cell_type": "code",
   "execution_count": null,
   "metadata": {},
   "outputs": [],
   "source": []
  }
 ],
 "metadata": {
  "kernelspec": {
   "display_name": "DAT158",
   "language": "python",
   "name": "dat158"
  },
  "language_info": {
   "codemirror_mode": {
    "name": "ipython",
    "version": 3
   },
   "file_extension": ".py",
   "mimetype": "text/x-python",
   "name": "python",
   "nbconvert_exporter": "python",
   "pygments_lexer": "ipython3",
   "version": "3.6.6"
  }
 },
 "nbformat": 4,
 "nbformat_minor": 2
}
