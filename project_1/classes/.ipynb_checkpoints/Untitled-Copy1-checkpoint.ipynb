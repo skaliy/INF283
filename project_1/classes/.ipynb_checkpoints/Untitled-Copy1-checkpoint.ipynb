{
 "cells": [
  {
   "cell_type": "code",
   "execution_count": 1,
   "metadata": {},
   "outputs": [],
   "source": [
    "import pandas as pd \n",
    "import numpy as np\n",
    "from math import log2\n",
    "from Node import * \n",
    "from ImpurityMeasure import * "
   ]
  },
  {
   "cell_type": "code",
   "execution_count": 2,
   "metadata": {},
   "outputs": [],
   "source": [
    "PATH = '/Users/Sathiesh/MachineLearning/INF283/project_1/csv/tennis.csv' #TODO fiks"
   ]
  },
  {
   "cell_type": "code",
   "execution_count": 3,
   "metadata": {},
   "outputs": [],
   "source": [
    "df = pd.read_csv(PATH)\n",
    "y = df['play']"
   ]
  },
  {
   "cell_type": "code",
   "execution_count": 4,
   "metadata": {},
   "outputs": [],
   "source": [
    "X = df.drop(['day','play'], axis=1)"
   ]
  },
  {
   "cell_type": "code",
   "execution_count": 5,
   "metadata": {},
   "outputs": [],
   "source": [
    "#Sender inn dataframe til meg "
   ]
  },
  {
   "cell_type": "code",
   "execution_count": 6,
   "metadata": {},
   "outputs": [],
   "source": [
    "#Ulempen med å splitte på flere er hvis ikke "
   ]
  },
  {
   "cell_type": "code",
   "execution_count": 7,
   "metadata": {},
   "outputs": [],
   "source": [
    "def dataframe_to_numpy(X,y): \n",
    "    for column in X.columns: \n",
    "        X[column] = pd.factorize(X[column])[0]\n",
    "    X = X.values #numpy array \n",
    "    y = pd.factorize(y)[0]\n",
    "    return X,y"
   ]
  },
  {
   "cell_type": "code",
   "execution_count": 8,
   "metadata": {},
   "outputs": [],
   "source": [
    "X_train,y_train = dataframe_to_numpy(X,y)"
   ]
  },
  {
   "cell_type": "code",
   "execution_count": 9,
   "metadata": {},
   "outputs": [],
   "source": [
    "def train_test_split(X,y, size=0.3): \n",
    "    #lage en numpy funksjon som tar \n",
    "    random_selection = np.random.randint(len(y), size=int(len(y)*size))\n",
    "    X_test, y_test = X[random_selection],  y[random_selection]\n",
    "    X_train, y_train = np.delete(X, (random_selection), axis=0), np.delete(y, (random_selection), axis=0)\n",
    "    return X_train, X_test, y_train, y_test"
   ]
  },
  {
   "cell_type": "code",
   "execution_count": 10,
   "metadata": {},
   "outputs": [],
   "source": [
    "#X_train, X_test, y_train, y_test = train_test_split(X,y)"
   ]
  },
  {
   "cell_type": "code",
   "execution_count": 11,
   "metadata": {},
   "outputs": [],
   "source": [
    "def count_values(y): \n",
    "    result = {} \n",
    "    for value in y: \n",
    "        if value not in result: result[value] = 1\n",
    "        else: result[value]+=1\n",
    "    return result"
   ]
  },
  {
   "cell_type": "code",
   "execution_count": 106,
   "metadata": {},
   "outputs": [],
   "source": [
    "def case_prediction(x,node): #x = [0,0,1,1]\n",
    "    while len(x) > 0: \n",
    "        cat_var = x[node.category] #Rot sin kategori, så da velges posisjon 0 for eksempel \n",
    "        x = np.delete(x, node.category, axis=0)\n",
    "        if cat_var not in node.children: #miss classification  \n",
    "            return None\n",
    "        child_node = node.children[cat_var]\n",
    "        if child_node.isLeaf: \n",
    "            return child_node.data\n",
    "        node = child_node"
   ]
  },
  {
   "cell_type": "code",
   "execution_count": 107,
   "metadata": {},
   "outputs": [],
   "source": [
    "def predict(x, node):\n",
    "    result = []\n",
    "    for i in x: \n",
    "        result.append(case_prediction(i,node))\n",
    "    return np.array(result)"
   ]
  },
  {
   "cell_type": "code",
   "execution_count": 108,
   "metadata": {},
   "outputs": [],
   "source": [
    "def accuracy(y, pred): \n",
    "    result = 0\n",
    "    for idx, y_ in enumerate(pred): \n",
    "        if y_ == y[idx]: result+=1\n",
    "    return (result/len(y))"
   ]
  },
  {
   "cell_type": "code",
   "execution_count": 109,
   "metadata": {},
   "outputs": [],
   "source": [
    "def find_best_split(categories, y, impurity_measure): \n",
    "    impurity_measure_method = getattr(ImpurityMeasure(), impurity_measure)\n",
    "    \n",
    "    impurity_measure_src = impurity_measure_method(y)\n",
    "    best_ig_score = []\n",
    "    for cat in categories:\n",
    "        #KOMMENTAR en cat kan typisk være outlook\n",
    "        #EN CAT KAN INNEHOLDE VARIABLENE: sunny, overcast, rain \n",
    "        variables_dic = {}\n",
    "        impurity_measure_of_branches = 0 if impurity_measure=='entropy' else impurity_measure_src\n",
    "        \n",
    "        #Variabel og y veridene til den \n",
    "        for index,var in enumerate(cat): \n",
    "            if var not in variables_dic: variables_dic[var] = []\n",
    "            variables_dic[var].append(y[index])\n",
    " \n",
    "        #Regne ut entropien for hver av variablene og legge dem sammen\n",
    "        for key, var_y in variables_dic.items(): \n",
    "            result = impurity_measure_method(var_y)*(len(var_y)/len(y))\n",
    "            \n",
    "            #TODO få dette til å funke ordentlig\n",
    "            #Regne ut i fra om det er entropy eller gini\n",
    "            if(impurity_measure == 'entropy'):\n",
    "                impurity_measure_of_branches += result\n",
    "            else: \n",
    "                 impurity_measure_of_branches -= result\n",
    "                \n",
    "        information_gain = impurity_measure_src - impurity_measure_of_branches \n",
    "        best_ig_score.append(information_gain)\n",
    "    #print(best_ig_score)\n",
    "    return np.argmax(best_ig_score)"
   ]
  },
  {
   "cell_type": "code",
   "execution_count": 110,
   "metadata": {},
   "outputs": [],
   "source": [
    "import operator #TODO Kan jeg bruke denne? \n",
    "def find_dominant_value(values_dic): \n",
    "    return max(values_dic, key=values_dic.get)"
   ]
  },
  {
   "cell_type": "code",
   "execution_count": 111,
   "metadata": {},
   "outputs": [],
   "source": [
    "#definere paramter, type, return verdi\n",
    "def create_tree(X,y, node, impurity_measure): \n",
    "    #Find best category \n",
    "    if len(X) == 0: \n",
    "        return node  #hva skal jeg retunere?????  \n",
    "    else: \n",
    "        index = find_best_split(X,y,impurity_measure) #finner indeksen til den beste kategorien å splitte på\n",
    "        \n",
    "        node.category = index\n",
    "        node.data = X[index] #add the category data to the node \n",
    "        child_dic = count_values(node.data) #count num variables for the category \n",
    "    \n",
    "        for i in child_dic.keys(): #Add variable name and Node as child to the Node\n",
    "            node.add_child(i,Node()) #Verdi[0] variable navn som er gitt som tall og [1] er selve noden\n",
    "    \n",
    "        for var, child_node in node.children.items():\n",
    "            child_node.parent_node = node\n",
    "            indices = [i for i, x in enumerate(node.data) if x == var] #indeksene til variablene til i datasettet til forelder noden\n",
    "            result = count_values(y[indices]) #sjekker hvor mange true false man har for variabelen\n",
    "            if len(result) == 1: \n",
    "                child_node.data = next(iter(result.keys())) #Alle er like, så vi gir verdi \n",
    "                child_node.isLeaf = True\n",
    "            \n",
    "            elif (len(X) == 1): #De er fortsatt ikke clean, men da må man finne den med flest dominerende\n",
    "                child_node.data = find_dominant_value(result)\n",
    "                child_node.isLeaf = True\n",
    "                \n",
    "            if not child_node.isLeaf:\n",
    "                node_X = np.delete(X, index, axis=0)\n",
    "                create_tree(node_X[:,indices],y[indices], child_node, impurity_measure) #når jeg skriver return her, så fucker alt seg "
   ]
  },
  {
   "cell_type": "code",
   "execution_count": 115,
   "metadata": {},
   "outputs": [],
   "source": [
    "def learn(X,y,impurity_measure = 'entropy',  pruning=False): \n",
    "    X_pruning, y_pruning = [],[]\n",
    "    if pruning: \n",
    "        X, X_pruning, y, y_pruning =  get_pruning_set(X,y)\n",
    "        \n",
    "   \n",
    "    root = Node()\n",
    "\n",
    "    create_tree(X.T,y, root,impurity_measure)#Gir inn X.T Slik at hver av kategoriene kommer på en linje \n",
    "    if pruning: \n",
    "        print(X_pruning)\n",
    "        pruning_pred = predict(X_pruning,root)\n",
    "        if None in pruning_pred: print(\"HALLO\")\n",
    "        print(accuracy(pruning_pred, y_pruning))\n",
    "        \n",
    "    return root"
   ]
  },
  {
   "cell_type": "code",
   "execution_count": 116,
   "metadata": {},
   "outputs": [],
   "source": [
    "def get_pruning_set(X,y, size=0.2): \n",
    "    #lage en numpy funksjon som tar \n",
    "    random_selection = np.random.randint(len(y), size=int(len(y)*size))\n",
    "    X_pruning, y_pruning = X[random_selection],  y[random_selection]\n",
    "    X_train, y_train = np.delete(X, (random_selection), axis=0), np.delete(y, (random_selection), axis=0)\n",
    "    return X_train, X_pruning, y_train, y_pruning"
   ]
  },
  {
   "cell_type": "code",
   "execution_count": 117,
   "metadata": {},
   "outputs": [
    {
     "name": "stdout",
     "output_type": "stream",
     "text": [
      "[[1 1 0 1]\n",
      " [2 1 0 0]]\n",
      "0.5\n",
      "[[1 0 1 0]\n",
      " [0 2 1 0]]\n",
      "1.0\n",
      "[[0 0 0 0]\n",
      " [2 2 1 1]]\n",
      "0.5\n",
      "[[0 0 0 1]\n",
      " [1 1 0 1]]\n",
      "1.0\n",
      "[[2 1 1 0]\n",
      " [1 1 0 1]]\n",
      "1.0\n",
      "[[0 0 0 0]\n",
      " [2 2 1 0]]\n",
      "1.0\n",
      "[[2 1 0 0]\n",
      " [2 1 1 0]]\n",
      "1.0\n",
      "[[0 0 0 1]\n",
      " [1 0 0 0]]\n",
      "1.0\n",
      "[[2 2 1 1]\n",
      " [0 0 0 1]]\n",
      "0.5\n",
      "[[0 0 0 1]\n",
      " [0 0 0 0]]\n",
      "1.0\n",
      "[[1 0 0 0]\n",
      " [0 0 0 1]]\n",
      "1.0\n",
      "[[1 2 1 1]\n",
      " [2 1 0 1]]\n",
      "1.0\n",
      "[[2 2 1 0]\n",
      " [2 1 1 0]]\n",
      "1.0\n",
      "[[0 1 0 0]\n",
      " [1 2 1 1]]\n",
      "0.5\n",
      "[[2 1 1 0]\n",
      " [2 2 1 0]]\n",
      "1.0\n",
      "[[2 1 0 0]\n",
      " [1 0 1 0]]\n",
      "1.0\n",
      "[[2 2 1 1]\n",
      " [2 2 1 1]]\n",
      "0.0\n",
      "[[2 1 0 1]\n",
      " [1 0 0 0]]\n",
      "1.0\n",
      "[[2 2 1 0]\n",
      " [2 2 1 1]]\n",
      "0.5\n",
      "[[0 1 1 1]\n",
      " [1 0 0 0]]\n",
      "0.5\n",
      "[[0 0 0 1]\n",
      " [2 2 1 0]]\n",
      "1.0\n",
      "[[0 0 0 1]\n",
      " [2 1 0 1]]\n",
      "1.0\n",
      "[[1 2 1 1]\n",
      " [0 1 0 0]]\n",
      "0.5\n",
      "[[1 0 1 0]\n",
      " [1 1 0 1]]\n",
      "1.0\n",
      "[[0 0 0 0]\n",
      " [1 0 0 0]]\n",
      "1.0\n",
      "[[0 1 1 1]\n",
      " [0 2 1 0]]\n",
      "0.0\n",
      "[[1 2 1 1]\n",
      " [2 2 1 0]]\n",
      "1.0\n",
      "[[2 1 1 0]\n",
      " [1 0 1 0]]\n",
      "1.0\n",
      "[[2 1 0 0]\n",
      " [1 1 0 1]]\n",
      "0.5\n",
      "[[2 2 1 0]\n",
      " [1 2 1 1]]\n",
      "1.0\n",
      "[[1 1 0 1]\n",
      " [2 2 1 0]]\n",
      "1.0\n",
      "[[0 2 1 0]\n",
      " [2 2 1 0]]\n",
      "1.0\n",
      "[[1 1 0 1]\n",
      " [2 1 1 0]]\n",
      "1.0\n",
      "[[2 1 1 0]\n",
      " [0 0 0 0]]\n",
      "1.0\n",
      "[[2 2 1 1]\n",
      " [0 2 1 0]]\n",
      "1.0\n",
      "[[0 1 0 0]\n",
      " [1 0 1 0]]\n",
      "0.5\n",
      "[[2 1 1 0]\n",
      " [0 0 0 0]]\n",
      "1.0\n",
      "[[0 1 1 1]\n",
      " [0 0 0 0]]\n",
      "0.5\n",
      "[[2 1 1 0]\n",
      " [2 1 1 0]]\n",
      "1.0\n",
      "[[2 1 0 1]\n",
      " [1 1 0 1]]\n",
      "1.0\n",
      "[[2 2 1 1]\n",
      " [0 2 1 0]]\n",
      "1.0\n",
      "[[1 0 0 0]\n",
      " [0 1 0 0]]\n",
      "0.5\n",
      "[[0 0 0 0]\n",
      " [1 2 1 1]]\n",
      "1.0\n",
      "[[0 0 0 1]\n",
      " [2 2 1 0]]\n",
      "1.0\n",
      "[[2 1 0 0]\n",
      " [0 1 1 1]]\n",
      "0.5\n",
      "[[0 2 1 0]\n",
      " [2 1 0 0]]\n",
      "1.0\n",
      "[[1 0 0 0]\n",
      " [0 1 0 0]]\n",
      "0.5\n",
      "[[0 0 0 0]\n",
      " [0 1 1 1]]\n",
      "0.5\n",
      "[[0 2 1 0]\n",
      " [0 1 0 0]]\n",
      "HALLO\n",
      "0.0\n",
      "[[0 0 0 0]\n",
      " [2 1 0 0]]\n",
      "1.0\n",
      "[[2 1 0 1]\n",
      " [0 1 1 1]]\n",
      "0.5\n",
      "[[0 0 0 1]\n",
      " [0 1 1 1]]\n",
      "0.5\n",
      "[[1 2 1 1]\n",
      " [2 2 1 0]]\n",
      "1.0\n",
      "[[2 1 0 1]\n",
      " [0 1 1 1]]\n",
      "0.5\n",
      "[[0 1 1 1]\n",
      " [0 1 1 1]]\n",
      "0.0\n",
      "[[1 2 1 1]\n",
      " [0 1 1 1]]\n",
      "0.5\n",
      "[[2 2 1 0]\n",
      " [2 2 1 0]]\n",
      "1.0\n",
      "[[0 2 1 0]\n",
      " [2 1 1 0]]\n",
      "1.0\n",
      "[[2 1 1 0]\n",
      " [0 2 1 0]]\n",
      "1.0\n",
      "[[2 1 0 0]\n",
      " [0 2 1 0]]\n",
      "1.0\n",
      "[[2 2 1 0]\n",
      " [1 2 1 1]]\n",
      "1.0\n",
      "[[0 1 0 0]\n",
      " [1 1 0 1]]\n",
      "0.5\n",
      "[[2 1 0 0]\n",
      " [0 0 0 0]]\n",
      "1.0\n",
      "[[1 1 0 1]\n",
      " [0 1 0 0]]\n",
      "0.5\n",
      "[[1 0 1 0]\n",
      " [1 1 0 1]]\n",
      "1.0\n",
      "[[2 1 0 1]\n",
      " [0 2 1 0]]\n",
      "1.0\n",
      "[[2 1 0 0]\n",
      " [2 1 1 0]]\n",
      "1.0\n",
      "[[1 0 1 0]\n",
      " [0 0 0 0]]\n",
      "1.0\n",
      "[[0 2 1 0]\n",
      " [1 1 0 1]]\n",
      "1.0\n",
      "[[1 0 1 0]\n",
      " [1 0 1 0]]\n",
      "1.0\n",
      "[[1 0 1 0]\n",
      " [2 1 0 1]]\n",
      "1.0\n",
      "[[1 0 1 0]\n",
      " [0 1 0 0]]\n",
      "0.5\n",
      "[[1 2 1 1]\n",
      " [2 1 1 0]]\n",
      "1.0\n",
      "[[0 0 0 1]\n",
      " [2 1 1 0]]\n",
      "1.0\n",
      "[[1 1 0 1]\n",
      " [0 2 1 0]]\n",
      "1.0\n",
      "[[0 1 1 1]\n",
      " [1 0 1 0]]\n",
      "0.5\n",
      "[[0 2 1 0]\n",
      " [0 2 1 0]]\n",
      "1.0\n",
      "[[0 0 0 1]\n",
      " [1 1 0 1]]\n",
      "1.0\n",
      "[[1 2 1 1]\n",
      " [2 1 1 0]]\n",
      "1.0\n",
      "[[1 1 0 1]\n",
      " [1 1 0 1]]\n",
      "1.0\n",
      "[[1 1 0 1]\n",
      " [0 0 0 0]]\n",
      "1.0\n",
      "[[2 1 0 1]\n",
      " [0 0 0 1]]\n",
      "1.0\n",
      "[[0 0 0 0]\n",
      " [1 1 0 1]]\n",
      "1.0\n",
      "[[2 2 1 1]\n",
      " [0 0 0 0]]\n",
      "0.5\n",
      "[[0 0 0 0]\n",
      " [1 2 1 1]]\n",
      "1.0\n",
      "[[1 1 0 1]\n",
      " [0 0 0 0]]\n",
      "1.0\n",
      "[[0 1 0 0]\n",
      " [0 1 0 0]]\n",
      "0.0\n",
      "[[1 2 1 1]\n",
      " [0 1 0 0]]\n",
      "0.5\n",
      "[[2 2 1 0]\n",
      " [1 0 1 0]]\n",
      "1.0\n",
      "[[2 1 1 0]\n",
      " [2 2 1 1]]\n",
      "0.5\n",
      "[[0 1 0 0]\n",
      " [2 1 0 1]]\n",
      "0.5\n",
      "[[0 2 1 0]\n",
      " [0 1 0 0]]\n",
      "HALLO\n",
      "0.0\n",
      "[[1 0 1 0]\n",
      " [0 2 1 0]]\n",
      "1.0\n",
      "[[2 1 1 0]\n",
      " [0 0 0 0]]\n",
      "1.0\n",
      "[[0 0 0 0]\n",
      " [0 1 0 0]]\n",
      "0.0\n",
      "[[2 2 1 0]\n",
      " [0 0 0 1]]\n",
      "1.0\n",
      "[[2 1 1 0]\n",
      " [2 2 1 1]]\n",
      "0.5\n",
      "[[2 1 1 0]\n",
      " [2 1 0 0]]\n",
      "1.0\n",
      "[[2 2 1 1]\n",
      " [0 0 0 0]]\n",
      "0.5\n",
      "[[2 1 0 1]\n",
      " [2 1 0 0]]\n",
      "1.0\n"
     ]
    }
   ],
   "source": [
    "for i in range(100):\n",
    "    tree = learn(X_train,y_train, pruning=True)"
   ]
  },
  {
   "cell_type": "code",
   "execution_count": 105,
   "metadata": {},
   "outputs": [
    {
     "name": "stdout",
     "output_type": "stream",
     "text": [
      "0 <Node.Node object at 0x11355e588>\n",
      "1 <Node.Node object at 0x11355e550>\n",
      "2 <Node.Node object at 0x11355eac8>\n"
     ]
    }
   ],
   "source": [
    "tree.children\n",
    "for key,child in tree.children.items(): \n",
    "    print(key, child)"
   ]
  },
  {
   "cell_type": "code",
   "execution_count": 94,
   "metadata": {},
   "outputs": [],
   "source": [
    "def print_tree(node):\n",
    "    if node.isLeaf: \n",
    "        print(\"-----Leaf_value------\")\n",
    "        print(node.data)\n",
    "        print()\n",
    "    else: \n",
    "        for key, child in node.children.items():\n",
    "            if not child.isLeaf:print(key, child.children.keys())\n",
    "            print_tree(child)"
   ]
  },
  {
   "cell_type": "code",
   "execution_count": 83,
   "metadata": {},
   "outputs": [
    {
     "name": "stdout",
     "output_type": "stream",
     "text": [
      "dict_keys([0, 1, 2])\n",
      "\n",
      "0 dict_keys([0, 1])\n",
      "-----Leaf_value------\n",
      "0\n",
      "\n",
      "-----Leaf_value------\n",
      "1\n",
      "\n",
      "-----Leaf_value------\n",
      "1\n",
      "\n",
      "2 dict_keys([0, 1])\n",
      "-----Leaf_value------\n",
      "1\n",
      "\n",
      "-----Leaf_value------\n",
      "0\n",
      "\n"
     ]
    }
   ],
   "source": [
    "print(tree.children.keys())\n",
    "print()\n",
    "print_tree(tree)"
   ]
  },
  {
   "cell_type": "code",
   "execution_count": 45,
   "metadata": {},
   "outputs": [
    {
     "data": {
      "text/plain": [
       "1"
      ]
     },
     "execution_count": 45,
     "metadata": {},
     "output_type": "execute_result"
    }
   ],
   "source": [
    "tree.children[0].children[1].data"
   ]
  },
  {
   "cell_type": "code",
   "execution_count": 46,
   "metadata": {},
   "outputs": [
    {
     "data": {
      "text/plain": [
       "0"
      ]
     },
     "execution_count": 46,
     "metadata": {},
     "output_type": "execute_result"
    }
   ],
   "source": [
    "tree.category #X ['outlook', 'temp', 'humidity', 'wind']"
   ]
  },
  {
   "cell_type": "code",
   "execution_count": 47,
   "metadata": {},
   "outputs": [],
   "source": [
    "y_ = predict(X_train,tree)"
   ]
  },
  {
   "cell_type": "code",
   "execution_count": 48,
   "metadata": {},
   "outputs": [
    {
     "data": {
      "text/plain": [
       "1.0"
      ]
     },
     "execution_count": 48,
     "metadata": {},
     "output_type": "execute_result"
    }
   ],
   "source": [
    "accuracy(y_train,y_)"
   ]
  },
  {
   "cell_type": "code",
   "execution_count": null,
   "metadata": {},
   "outputs": [],
   "source": [
    "def factorial(n):\n",
    "    if n == 0:\n",
    "        print(n)\n",
    "        return 1\n",
    "    else:\n",
    "        print(n)\n",
    "        return n * factorial(n - 1)"
   ]
  },
  {
   "cell_type": "code",
   "execution_count": null,
   "metadata": {},
   "outputs": [],
   "source": [
    "factorial(4)"
   ]
  },
  {
   "cell_type": "code",
   "execution_count": null,
   "metadata": {},
   "outputs": [],
   "source": []
  }
 ],
 "metadata": {
  "kernelspec": {
   "display_name": "DAT158",
   "language": "python",
   "name": "dat158"
  },
  "language_info": {
   "codemirror_mode": {
    "name": "ipython",
    "version": 3
   },
   "file_extension": ".py",
   "mimetype": "text/x-python",
   "name": "python",
   "nbconvert_exporter": "python",
   "pygments_lexer": "ipython3",
   "version": "3.6.6"
  }
 },
 "nbformat": 4,
 "nbformat_minor": 2
}
