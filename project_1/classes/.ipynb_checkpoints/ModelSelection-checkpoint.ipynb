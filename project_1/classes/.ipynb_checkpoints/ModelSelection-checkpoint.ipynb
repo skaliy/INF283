{
 "cells": [
  {
   "cell_type": "code",
   "execution_count": 1,
   "metadata": {},
   "outputs": [],
   "source": [
    "import numpy as np\n",
    "\n",
    "class ModelSelection(object):\n",
    "    \n",
    "    def X_y_split(X,y, size=0.2): \n",
    "        \"\"\"Split the values into two subsets. Can be used for train_test_split or to get a pruning set from the training set.\n",
    "        Arguments:\n",
    "            size= default values is 0.2\n",
    "        Returns: \n",
    "            Two subsets for X and y.\n",
    "        \"\"\"\n",
    "        random_selection = np.random.randint(len(y), size=int(len(y)*size))\n",
    "        X_test, y_test = X[random_selection],  y[random_selection]\n",
    "        X_train, y_train = np.delete(X, (random_selection), axis=0), np.delete(y, (random_selection), axis=0)\n",
    "        return X_train, X_test, y_train, y_test"
   ]
  }
 ],
 "metadata": {
  "kernelspec": {
   "display_name": "Python 3",
   "language": "python",
   "name": "python3"
  },
  "language_info": {
   "codemirror_mode": {
    "name": "ipython",
    "version": 3
   },
   "file_extension": ".py",
   "mimetype": "text/x-python",
   "name": "python",
   "nbconvert_exporter": "python",
   "pygments_lexer": "ipython3",
   "version": "3.6.3"
  }
 },
 "nbformat": 4,
 "nbformat_minor": 2
}
