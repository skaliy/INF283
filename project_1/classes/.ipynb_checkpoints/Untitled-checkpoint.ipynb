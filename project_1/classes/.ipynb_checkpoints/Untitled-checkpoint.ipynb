{
 "cells": [
  {
   "cell_type": "code",
   "execution_count": 17,
   "metadata": {},
   "outputs": [],
   "source": [
    "import pandas as pd \n",
    "import numpy as np\n",
    "from math import log2\n",
    "from Node import * "
   ]
  },
  {
   "cell_type": "code",
   "execution_count": 18,
   "metadata": {},
   "outputs": [],
   "source": [
    "PATH = '/Users/Sathiesh/MachineLearning/INF283/project_1/csv/tennis.csv' #TODO fiks"
   ]
  },
  {
   "cell_type": "code",
   "execution_count": 19,
   "metadata": {},
   "outputs": [],
   "source": [
    "df = pd.read_csv(PATH)\n",
    "y = df['play']"
   ]
  },
  {
   "cell_type": "code",
   "execution_count": 20,
   "metadata": {},
   "outputs": [],
   "source": [
    "X = df.drop(['day','play'], axis=1)"
   ]
  },
  {
   "cell_type": "code",
   "execution_count": 21,
   "metadata": {},
   "outputs": [],
   "source": [
    "#Sender inn dataframe til meg "
   ]
  },
  {
   "cell_type": "code",
   "execution_count": 22,
   "metadata": {},
   "outputs": [],
   "source": [
    "def dataframe_to_numpy(X,y): \n",
    "    for column in X.columns: \n",
    "        X[column] = pd.factorize(X[column])[0]\n",
    "    X = X.values #numpy array \n",
    "    y = pd.factorize(y)[0]\n",
    "    return X,y"
   ]
  },
  {
   "cell_type": "code",
   "execution_count": 23,
   "metadata": {},
   "outputs": [],
   "source": [
    "X,y = dataframe_to_numpy(X,y)"
   ]
  },
  {
   "cell_type": "code",
   "execution_count": 24,
   "metadata": {},
   "outputs": [],
   "source": [
    "X= X.T"
   ]
  },
  {
   "cell_type": "code",
   "execution_count": 25,
   "metadata": {},
   "outputs": [],
   "source": [
    "#Hvor mange true og hvor mange false \n",
    "#Returnerer en dictinary\n",
    "def count_values(y): \n",
    "    result = {} \n",
    "    for value in y: \n",
    "        if value not in result: result[value] = 1\n",
    "        else: result[value]+=1\n",
    "    return result"
   ]
  },
  {
   "cell_type": "code",
   "execution_count": 26,
   "metadata": {},
   "outputs": [],
   "source": [
    "def entropy(y):\n",
    "    result = count_values(y)\n",
    "    e = 0\n",
    "    for val in result.values(): \n",
    "        p = float(val/len(y)) \n",
    "        e = e -p*log2(p)\n",
    "    return e"
   ]
  },
  {
   "cell_type": "code",
   "execution_count": 27,
   "metadata": {},
   "outputs": [],
   "source": [
    "def gini(y): \n",
    "    result = count_values(y)\n",
    "    g = 1\n",
    "    for val in result.values(): \n",
    "        p = float(val/len(y))\n",
    "        g = g - (p)**2\n",
    "    return g"
   ]
  },
  {
   "cell_type": "code",
   "execution_count": 28,
   "metadata": {},
   "outputs": [],
   "source": [
    "def find_best_split(categories, y): \n",
    "    entropy_src = entropy(y)\n",
    "    best_ig_score = []\n",
    "    for cat in categories:\n",
    "        #KOMMENTAR en cat kan typisk være outlook\n",
    "        #EN CAT KAN INNEHOLDE VARIABLENE: sunny, overcast, rain \n",
    "        variables_dic = {}\n",
    "        entropy_of_branches = 0\n",
    "        \n",
    "        #Variabel og y veridene til den \n",
    "        for index,var in enumerate(cat): \n",
    "            if var not in variables_dic: variables_dic[var] = []\n",
    "            variables_dic[var].append(y[index])\n",
    " \n",
    "        #Regne ut entropien for hver av variablene og legge dem sammen\n",
    "        for key, var_y in variables_dic.items(): \n",
    "            result = entropy(var_y)*(len(var_y)/len(y))\n",
    "            entropy_of_branches += result\n",
    "        \n",
    "        information_gain = entropy_src - entropy_of_branches \n",
    "        best_ig_score.append(information_gain)\n",
    "    print(best_ig_score)\n",
    "    return np.argmax(best_ig_score)"
   ]
  },
  {
   "cell_type": "code",
   "execution_count": 29,
   "metadata": {},
   "outputs": [],
   "source": [
    "def create_tree(X,y, node): \n",
    "    #Find best category \n",
    "    if len(X) == 0: \n",
    "        return node  #hva skal jeg retunere?????  \n",
    "    else: \n",
    "        index = find_best_split(X,y)\n",
    "        node.data = X[index] #add the category to the node \n",
    "        child_dic = count_values(node.data) #count num variables for the category \n",
    "    \n",
    "        for i in child_dic.keys(): #Add variable name and Node as child to the Node\n",
    "            node.add_child([i,Node()]) #Verdi[0] variable navn som er gitt som tall og [1] er selve noden\n",
    "    \n",
    "        for child in node.children:\n",
    "            child[1].parent_node = node\n",
    "            indices = [i for i, x in enumerate(node.data) if x == child[0]] #indeksene til variablene til i datasettet til forelder noden\n",
    "            result = count_values(y[indices]) #sjekker hvor mange true false man har for variabelen\n",
    "            if len(result) == 1: \n",
    "                child[1].data = next(iter(result.keys())) #Alle er like, så vi gir verdi \n",
    "                child[1].isChild = True\n",
    "        \n",
    "            if not child[1].isChild:\n",
    "                node_X = np.delete(X, (index), axis=0)\n",
    "                create_tree(node_X[:,indices],y[indices], child[1])"
   ]
  },
  {
   "cell_type": "code",
   "execution_count": 30,
   "metadata": {},
   "outputs": [
    {
     "name": "stdout",
     "output_type": "stream",
     "text": [
      "[0.24674981977443933, 0.02922256565895487, 0.15183550136234159, 0.04812703040826949]\n",
      "[0.5709505944546686, 0.9709505944546686, 0.01997309402197489]\n",
      "[0.01997309402197489, 0.01997309402197489, 0.9709505944546686]\n"
     ]
    }
   ],
   "source": [
    "root = Node()\n",
    "create_tree(X,y, root)"
   ]
  },
  {
   "cell_type": "code",
   "execution_count": 35,
   "metadata": {},
   "outputs": [],
   "source": [
    "child_node = root.children[1][1]"
   ]
  },
  {
   "cell_type": "code",
   "execution_count": 36,
   "metadata": {},
   "outputs": [
    {
     "data": {
      "text/plain": [
       "True"
      ]
     },
     "execution_count": 36,
     "metadata": {},
     "output_type": "execute_result"
    }
   ],
   "source": [
    "child_node.isChild"
   ]
  },
  {
   "cell_type": "code",
   "execution_count": null,
   "metadata": {},
   "outputs": [],
   "source": []
  },
  {
   "cell_type": "code",
   "execution_count": null,
   "metadata": {},
   "outputs": [],
   "source": []
  },
  {
   "cell_type": "code",
   "execution_count": null,
   "metadata": {},
   "outputs": [],
   "source": []
  },
  {
   "cell_type": "code",
   "execution_count": null,
   "metadata": {},
   "outputs": [],
   "source": []
  },
  {
   "cell_type": "code",
   "execution_count": null,
   "metadata": {},
   "outputs": [],
   "source": []
  },
  {
   "cell_type": "code",
   "execution_count": null,
   "metadata": {},
   "outputs": [],
   "source": [
    "root.data"
   ]
  },
  {
   "cell_type": "code",
   "execution_count": null,
   "metadata": {},
   "outputs": [],
   "source": [
    "index = find_best_split(X,y)"
   ]
  },
  {
   "cell_type": "code",
   "execution_count": null,
   "metadata": {},
   "outputs": [],
   "source": [
    "root = Node()\n",
    "root.data = X[index]"
   ]
  },
  {
   "cell_type": "code",
   "execution_count": null,
   "metadata": {},
   "outputs": [],
   "source": [
    "X = np.delete(X, (index), axis=0)"
   ]
  },
  {
   "cell_type": "code",
   "execution_count": null,
   "metadata": {},
   "outputs": [],
   "source": [
    "child_dic = count_values(root.data)"
   ]
  },
  {
   "cell_type": "code",
   "execution_count": null,
   "metadata": {},
   "outputs": [],
   "source": [
    "for i in child_dic.keys(): #Add variable name to child and Node\n",
    "    root.add_child([i,Node])"
   ]
  },
  {
   "cell_type": "code",
   "execution_count": null,
   "metadata": {},
   "outputs": [],
   "source": [
    "def denne():\n",
    "    for child in root.children: \n",
    "        indices = [i for i, x in enumerate(root.data) if x == child[0]]\n",
    "        result = count_values(y[indices])\n",
    "        if len(result) == 1: \n",
    "            child[1].data = next(iter(result.keys()))\n",
    "            print(child[1].data)\n",
    "            \n",
    "        if len(result) >1: \n",
    "            index = find_best_split(X[:,indices],y[indices])\n",
    "            node = Node()\n",
    "            #Må slette X sin kolonne bare for denne, så fortsette \n",
    "            \n"
   ]
  },
  {
   "cell_type": "code",
   "execution_count": null,
   "metadata": {},
   "outputs": [],
   "source": []
  },
  {
   "cell_type": "code",
   "execution_count": 17,
   "metadata": {},
   "outputs": [
    {
     "name": "stdout",
     "output_type": "stream",
     "text": [
      "factorial has been called with n = 5\n",
      "factorial has been called with n = 4\n",
      "factorial has been called with n = 3\n",
      "factorial has been called with n = 2\n",
      "factorial has been called with n = 1\n",
      "intermediate result for  2  * factorial( 1 ):  2\n",
      "intermediate result for  3  * factorial( 2 ):  6\n",
      "intermediate result for  4  * factorial( 3 ):  24\n",
      "intermediate result for  5  * factorial( 4 ):  120\n",
      "120\n"
     ]
    }
   ],
   "source": [
    "def factorial(n):\n",
    "    print(\"factorial has been called with n = \" + str(n))\n",
    "    if n == 1:\n",
    "        return 1\n",
    "    else:\n",
    "        res = n * factorial(n-1)\n",
    "        print(\"intermediate result for \", n, \" * factorial(\" ,n-1, \"): \",res)\n",
    "        return res\t\n",
    "\n",
    "print(factorial(5))"
   ]
  },
  {
   "cell_type": "code",
   "execution_count": null,
   "metadata": {},
   "outputs": [],
   "source": []
  }
 ],
 "metadata": {
  "kernelspec": {
   "display_name": "DAT158",
   "language": "python",
   "name": "dat158"
  },
  "language_info": {
   "codemirror_mode": {
    "name": "ipython",
    "version": 3
   },
   "file_extension": ".py",
   "mimetype": "text/x-python",
   "name": "python",
   "nbconvert_exporter": "python",
   "pygments_lexer": "ipython3",
   "version": "3.6.6"
  }
 },
 "nbformat": 4,
 "nbformat_minor": 2
}
