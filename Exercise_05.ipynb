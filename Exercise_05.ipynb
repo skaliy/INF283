{
 "cells": [
  {
   "cell_type": "code",
   "execution_count": 249,
   "metadata": {},
   "outputs": [],
   "source": [
    "import numpy as np\n",
    "from sklearn import datasets\n",
    "from sklearn.model_selection import train_test_split\n",
    "from sklearn.preprocessing import OneHotEncoder\n",
    "\n",
    "from keras.models import Sequential\n",
    "from keras.layers import Dense\n",
    "from keras.optimizers import Adam"
   ]
  },
  {
   "cell_type": "code",
   "execution_count": 250,
   "metadata": {},
   "outputs": [
    {
     "data": {
      "text/plain": [
       "['data', 'target', 'target_names', 'DESCR', 'feature_names']"
      ]
     },
     "execution_count": 250,
     "metadata": {},
     "output_type": "execute_result"
    }
   ],
   "source": [
    "iris = datasets.load_iris()\n",
    "list(iris.keys())"
   ]
  },
  {
   "cell_type": "code",
   "execution_count": 251,
   "metadata": {},
   "outputs": [],
   "source": [
    "X,y_ = iris['data'], iris['target'].reshape(-1, 1)"
   ]
  },
  {
   "cell_type": "code",
   "execution_count": 252,
   "metadata": {},
   "outputs": [],
   "source": [
    "encoder = OneHotEncoder(sparse=False)\n",
    "y = encoder.fit_transform(y_)"
   ]
  },
  {
   "cell_type": "code",
   "execution_count": 253,
   "metadata": {},
   "outputs": [],
   "source": [
    "X_train, X_test, y_train, y_test = train_test_split(X, y, test_size=0.3, random_state=42)"
   ]
  },
  {
   "cell_type": "markdown",
   "metadata": {},
   "source": [
    "# Create a model "
   ]
  },
  {
   "cell_type": "code",
   "execution_count": 267,
   "metadata": {},
   "outputs": [],
   "source": [
    "model = Sequential()\n",
    "model.add(Dense(10, input_dim=4, activation='tanh')) \n",
    "model.add(Dense(6, activation='tanh')) # \n",
    "model.add(Dense(3, activation='softmax')) # input 1, activation sigmoid"
   ]
  },
  {
   "cell_type": "code",
   "execution_count": 268,
   "metadata": {},
   "outputs": [
    {
     "name": "stdout",
     "output_type": "stream",
     "text": [
      "Epoch 1/100\n",
      "105/105 [==============================] - 2s 16ms/step - loss: 0.6333 - acc: 0.6667\n",
      "Epoch 2/100\n",
      "105/105 [==============================] - 0s 388us/step - loss: 0.6114 - acc: 0.6667\n",
      "Epoch 3/100\n",
      "105/105 [==============================] - 0s 392us/step - loss: 0.5889 - acc: 0.6667\n",
      "Epoch 4/100\n",
      "105/105 [==============================] - 0s 402us/step - loss: 0.5647 - acc: 0.6667\n",
      "Epoch 5/100\n",
      "105/105 [==============================] - 0s 414us/step - loss: 0.5404 - acc: 0.6667\n",
      "Epoch 6/100\n",
      "105/105 [==============================] - 0s 405us/step - loss: 0.5160 - acc: 0.7016\n",
      "Epoch 7/100\n",
      "105/105 [==============================] - 0s 402us/step - loss: 0.4923 - acc: 0.7492\n",
      "Epoch 8/100\n",
      "105/105 [==============================] - 0s 396us/step - loss: 0.4676 - acc: 0.7714\n",
      "Epoch 9/100\n",
      "105/105 [==============================] - 0s 418us/step - loss: 0.4468 - acc: 0.7651\n",
      "Epoch 10/100\n",
      "105/105 [==============================] - 0s 413us/step - loss: 0.4287 - acc: 0.7651\n",
      "Epoch 11/100\n",
      "105/105 [==============================] - 0s 415us/step - loss: 0.4095 - acc: 0.8032\n",
      "Epoch 12/100\n",
      "105/105 [==============================] - 0s 411us/step - loss: 0.3912 - acc: 0.8127\n",
      "Epoch 13/100\n",
      "105/105 [==============================] - 0s 416us/step - loss: 0.3761 - acc: 0.8413\n",
      "Epoch 14/100\n",
      "105/105 [==============================] - 0s 412us/step - loss: 0.3636 - acc: 0.8571\n",
      "Epoch 15/100\n",
      "105/105 [==============================] - 0s 421us/step - loss: 0.3528 - acc: 0.8635\n",
      "Epoch 16/100\n",
      "105/105 [==============================] - 0s 431us/step - loss: 0.3404 - acc: 0.8825\n",
      "Epoch 17/100\n",
      "105/105 [==============================] - 0s 414us/step - loss: 0.3291 - acc: 0.8730\n",
      "Epoch 18/100\n",
      "105/105 [==============================] - 0s 415us/step - loss: 0.3180 - acc: 0.8889\n",
      "Epoch 19/100\n",
      "105/105 [==============================] - 0s 416us/step - loss: 0.3104 - acc: 0.8889\n",
      "Epoch 20/100\n",
      "105/105 [==============================] - 0s 438us/step - loss: 0.2974 - acc: 0.9175\n",
      "Epoch 21/100\n",
      "105/105 [==============================] - 0s 432us/step - loss: 0.2887 - acc: 0.9302\n",
      "Epoch 22/100\n",
      "105/105 [==============================] - 0s 421us/step - loss: 0.2797 - acc: 0.9429\n",
      "Epoch 23/100\n",
      "105/105 [==============================] - 0s 428us/step - loss: 0.2720 - acc: 0.9365\n",
      "Epoch 24/100\n",
      "105/105 [==============================] - 0s 422us/step - loss: 0.2605 - acc: 0.9429\n",
      "Epoch 25/100\n",
      "105/105 [==============================] - 0s 416us/step - loss: 0.2520 - acc: 0.9587\n",
      "Epoch 26/100\n",
      "105/105 [==============================] - 0s 424us/step - loss: 0.2409 - acc: 0.9651\n",
      "Epoch 27/100\n",
      "105/105 [==============================] - 0s 418us/step - loss: 0.2335 - acc: 0.9556\n",
      "Epoch 28/100\n",
      "105/105 [==============================] - 0s 430us/step - loss: 0.2256 - acc: 0.9683\n",
      "Epoch 29/100\n",
      "105/105 [==============================] - 0s 429us/step - loss: 0.2192 - acc: 0.9460\n",
      "Epoch 30/100\n",
      "105/105 [==============================] - 0s 434us/step - loss: 0.2081 - acc: 0.9714\n",
      "Epoch 31/100\n",
      "105/105 [==============================] - 0s 426us/step - loss: 0.2025 - acc: 0.9651\n",
      "Epoch 32/100\n",
      "105/105 [==============================] - 0s 431us/step - loss: 0.1913 - acc: 0.9587\n",
      "Epoch 33/100\n",
      "105/105 [==============================] - 0s 426us/step - loss: 0.1814 - acc: 0.9651\n",
      "Epoch 34/100\n",
      "105/105 [==============================] - 0s 428us/step - loss: 0.1756 - acc: 0.9714\n",
      "Epoch 35/100\n",
      "105/105 [==============================] - 0s 423us/step - loss: 0.1681 - acc: 0.9651\n",
      "Epoch 36/100\n",
      "105/105 [==============================] - 0s 421us/step - loss: 0.1600 - acc: 0.9651\n",
      "Epoch 37/100\n",
      "105/105 [==============================] - 0s 441us/step - loss: 0.1548 - acc: 0.9651\n",
      "Epoch 38/100\n",
      "105/105 [==============================] - 0s 429us/step - loss: 0.1492 - acc: 0.9714\n",
      "Epoch 39/100\n",
      "105/105 [==============================] - 0s 429us/step - loss: 0.1424 - acc: 0.9746\n",
      "Epoch 40/100\n",
      "105/105 [==============================] - 0s 433us/step - loss: 0.1381 - acc: 0.9683\n",
      "Epoch 41/100\n",
      "105/105 [==============================] - 0s 427us/step - loss: 0.1369 - acc: 0.9683\n",
      "Epoch 42/100\n",
      "105/105 [==============================] - 0s 426us/step - loss: 0.1302 - acc: 0.9683\n",
      "Epoch 43/100\n",
      "105/105 [==============================] - 0s 405us/step - loss: 0.1291 - acc: 0.9651\n",
      "Epoch 44/100\n",
      "105/105 [==============================] - 0s 424us/step - loss: 0.1243 - acc: 0.9714\n",
      "Epoch 45/100\n",
      "105/105 [==============================] - 0s 437us/step - loss: 0.1171 - acc: 0.9810\n",
      "Epoch 46/100\n",
      "105/105 [==============================] - 0s 450us/step - loss: 0.1144 - acc: 0.9683\n",
      "Epoch 47/100\n",
      "105/105 [==============================] - 0s 445us/step - loss: 0.1139 - acc: 0.9746\n",
      "Epoch 48/100\n",
      "105/105 [==============================] - 0s 429us/step - loss: 0.1082 - acc: 0.9683\n",
      "Epoch 49/100\n",
      "105/105 [==============================] - 0s 421us/step - loss: 0.1050 - acc: 0.9714\n",
      "Epoch 50/100\n",
      "105/105 [==============================] - 0s 452us/step - loss: 0.0996 - acc: 0.9778\n",
      "Epoch 51/100\n",
      "105/105 [==============================] - 0s 430us/step - loss: 0.1018 - acc: 0.9683\n",
      "Epoch 52/100\n",
      "105/105 [==============================] - 0s 433us/step - loss: 0.0968 - acc: 0.9746\n",
      "Epoch 53/100\n",
      "105/105 [==============================] - 0s 429us/step - loss: 0.0932 - acc: 0.9810\n",
      "Epoch 54/100\n",
      "105/105 [==============================] - 0s 435us/step - loss: 0.0910 - acc: 0.9810\n",
      "Epoch 55/100\n",
      "105/105 [==============================] - 0s 401us/step - loss: 0.0895 - acc: 0.9810\n",
      "Epoch 56/100\n",
      "105/105 [==============================] - 0s 428us/step - loss: 0.0864 - acc: 0.9810\n",
      "Epoch 57/100\n",
      "105/105 [==============================] - 0s 399us/step - loss: 0.0848 - acc: 0.9746\n",
      "Epoch 58/100\n",
      "105/105 [==============================] - 0s 411us/step - loss: 0.0832 - acc: 0.9746\n",
      "Epoch 59/100\n",
      "105/105 [==============================] - 0s 413us/step - loss: 0.0842 - acc: 0.9778\n",
      "Epoch 60/100\n",
      "105/105 [==============================] - 0s 412us/step - loss: 0.0800 - acc: 0.9746\n",
      "Epoch 61/100\n",
      "105/105 [==============================] - 0s 412us/step - loss: 0.0774 - acc: 0.9810\n",
      "Epoch 62/100\n",
      "105/105 [==============================] - 0s 374us/step - loss: 0.0759 - acc: 0.9810\n",
      "Epoch 63/100\n",
      "105/105 [==============================] - 0s 397us/step - loss: 0.0759 - acc: 0.9746\n",
      "Epoch 64/100\n",
      "105/105 [==============================] - 0s 406us/step - loss: 0.0770 - acc: 0.9873\n",
      "Epoch 65/100\n",
      "105/105 [==============================] - 0s 401us/step - loss: 0.0735 - acc: 0.9746\n",
      "Epoch 66/100\n",
      "105/105 [==============================] - 0s 398us/step - loss: 0.0724 - acc: 0.9746\n",
      "Epoch 67/100\n",
      "105/105 [==============================] - 0s 399us/step - loss: 0.0780 - acc: 0.9810\n",
      "Epoch 68/100\n",
      "105/105 [==============================] - 0s 409us/step - loss: 0.0766 - acc: 0.9746\n",
      "Epoch 69/100\n",
      "105/105 [==============================] - 0s 405us/step - loss: 0.0727 - acc: 0.9746\n",
      "Epoch 70/100\n",
      "105/105 [==============================] - 0s 402us/step - loss: 0.0707 - acc: 0.9746\n",
      "Epoch 71/100\n",
      "105/105 [==============================] - 0s 409us/step - loss: 0.0739 - acc: 0.9873\n",
      "Epoch 72/100\n",
      "105/105 [==============================] - 0s 397us/step - loss: 0.0676 - acc: 0.9746\n",
      "Epoch 73/100\n",
      "105/105 [==============================] - 0s 400us/step - loss: 0.0646 - acc: 0.9746\n",
      "Epoch 74/100\n",
      "105/105 [==============================] - 0s 429us/step - loss: 0.0663 - acc: 0.9746\n",
      "Epoch 75/100\n",
      "105/105 [==============================] - 0s 417us/step - loss: 0.0681 - acc: 0.9810\n",
      "Epoch 76/100\n",
      "105/105 [==============================] - 0s 419us/step - loss: 0.0761 - acc: 0.9746\n",
      "Epoch 77/100\n",
      "105/105 [==============================] - 0s 419us/step - loss: 0.0633 - acc: 0.9746\n",
      "Epoch 78/100\n",
      "105/105 [==============================] - 0s 416us/step - loss: 0.0648 - acc: 0.9746\n",
      "Epoch 79/100\n",
      "105/105 [==============================] - 0s 441us/step - loss: 0.0636 - acc: 0.9810\n",
      "Epoch 80/100\n",
      "105/105 [==============================] - 0s 419us/step - loss: 0.0610 - acc: 0.9810\n",
      "Epoch 81/100\n",
      "105/105 [==============================] - 0s 413us/step - loss: 0.0608 - acc: 0.9746\n",
      "Epoch 82/100\n",
      "105/105 [==============================] - 0s 419us/step - loss: 0.0621 - acc: 0.9746\n",
      "Epoch 83/100\n"
     ]
    },
    {
     "name": "stdout",
     "output_type": "stream",
     "text": [
      "105/105 [==============================] - 0s 403us/step - loss: 0.0585 - acc: 0.9810\n",
      "Epoch 84/100\n",
      "105/105 [==============================] - 0s 412us/step - loss: 0.0645 - acc: 0.9810\n",
      "Epoch 85/100\n",
      "105/105 [==============================] - 0s 388us/step - loss: 0.0640 - acc: 0.9746\n",
      "Epoch 86/100\n",
      "105/105 [==============================] - 0s 377us/step - loss: 0.0597 - acc: 0.9746\n",
      "Epoch 87/100\n",
      "105/105 [==============================] - 0s 389us/step - loss: 0.0616 - acc: 0.9810\n",
      "Epoch 88/100\n",
      "105/105 [==============================] - 0s 395us/step - loss: 0.0594 - acc: 0.9746\n",
      "Epoch 89/100\n",
      "105/105 [==============================] - 0s 383us/step - loss: 0.0607 - acc: 0.9746\n",
      "Epoch 90/100\n",
      "105/105 [==============================] - 0s 378us/step - loss: 0.0605 - acc: 0.9746\n",
      "Epoch 91/100\n",
      "105/105 [==============================] - 0s 401us/step - loss: 0.0574 - acc: 0.9746\n",
      "Epoch 92/100\n",
      "105/105 [==============================] - 0s 417us/step - loss: 0.0544 - acc: 0.9746\n",
      "Epoch 93/100\n",
      "105/105 [==============================] - 0s 410us/step - loss: 0.0559 - acc: 0.9746\n",
      "Epoch 94/100\n",
      "105/105 [==============================] - 0s 410us/step - loss: 0.0556 - acc: 0.9746\n",
      "Epoch 95/100\n",
      "105/105 [==============================] - 0s 379us/step - loss: 0.0549 - acc: 0.9746\n",
      "Epoch 96/100\n",
      "105/105 [==============================] - 0s 384us/step - loss: 0.0551 - acc: 0.9841\n",
      "Epoch 97/100\n",
      "105/105 [==============================] - 0s 407us/step - loss: 0.0617 - acc: 0.9746\n",
      "Epoch 98/100\n",
      "105/105 [==============================] - 0s 415us/step - loss: 0.0592 - acc: 0.9810\n",
      "Epoch 99/100\n",
      "105/105 [==============================] - 0s 394us/step - loss: 0.0550 - acc: 0.9810\n",
      "Epoch 100/100\n",
      "105/105 [==============================] - 0s 403us/step - loss: 0.0652 - acc: 0.9746\n"
     ]
    },
    {
     "data": {
      "text/plain": [
       "<keras.callbacks.History at 0x13e115f98>"
      ]
     },
     "execution_count": 268,
     "metadata": {},
     "output_type": "execute_result"
    }
   ],
   "source": [
    "# Compile model\n",
    "model.compile(loss='binary_crossentropy', optimizer='adam', metrics=['accuracy'])\n",
    "# Fit the model (X is features, Y is output, this is for training data)\n",
    "model.fit(X_train, y_train, epochs=100, batch_size=5)"
   ]
  },
  {
   "cell_type": "code",
   "execution_count": 269,
   "metadata": {},
   "outputs": [
    {
     "name": "stdout",
     "output_type": "stream",
     "text": [
      "45/45 [==============================] - 1s 14ms/step\n",
      "\n",
      "acc: 100.00%\n"
     ]
    }
   ],
   "source": [
    "scores = model.evaluate(X_test, y_test)\n",
    "print(\"\\n%s: %.2f%%\" % (model.metrics_names[1], scores[1]*100))\n"
   ]
  },
  {
   "cell_type": "markdown",
   "metadata": {},
   "source": [
    "# Discussion\n",
    "Input neurons = 4 since we have 4 columns\n",
    "<br>\n",
    "Hidden layer 1 = \n",
    "<br>\n",
    "Hidden layer 2 = \n",
    "<br>\n",
    "Output neurons = 3 since we have 3 classes (100,010,001)"
   ]
  },
  {
   "cell_type": "code",
   "execution_count": null,
   "metadata": {},
   "outputs": [],
   "source": []
  }
 ],
 "metadata": {
  "kernelspec": {
   "display_name": "Python 3",
   "language": "python",
   "name": "python3"
  },
  "language_info": {
   "codemirror_mode": {
    "name": "ipython",
    "version": 3
   },
   "file_extension": ".py",
   "mimetype": "text/x-python",
   "name": "python",
   "nbconvert_exporter": "python",
   "pygments_lexer": "ipython3",
   "version": "3.6.3"
  }
 },
 "nbformat": 4,
 "nbformat_minor": 2
}
