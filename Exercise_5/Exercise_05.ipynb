{
 "cells": [
  {
   "cell_type": "code",
   "execution_count": 2,
   "metadata": {},
   "outputs": [
    {
     "name": "stderr",
     "output_type": "stream",
     "text": [
      "/Users/Sathiesh/anaconda3/lib/python3.6/site-packages/h5py/__init__.py:34: FutureWarning: Conversion of the second argument of issubdtype from `float` to `np.floating` is deprecated. In future, it will be treated as `np.float64 == np.dtype(float).type`.\n",
      "  from ._conv import register_converters as _register_converters\n",
      "Using TensorFlow backend.\n",
      "/Users/Sathiesh/anaconda3/lib/python3.6/importlib/_bootstrap.py:219: RuntimeWarning: compiletime version 3.5 of module 'tensorflow.python.framework.fast_tensor_util' does not match runtime version 3.6\n",
      "  return f(*args, **kwds)\n"
     ]
    }
   ],
   "source": [
    "import numpy as np\n",
    "from sklearn import datasets\n",
    "from sklearn.model_selection import train_test_split\n",
    "from sklearn.preprocessing import OneHotEncoder\n",
    "\n",
    "from keras.models import Sequential\n",
    "from keras.layers import Dense\n",
    "from keras.optimizers import Adam"
   ]
  },
  {
   "cell_type": "code",
   "execution_count": 3,
   "metadata": {},
   "outputs": [
    {
     "data": {
      "text/plain": [
       "['data', 'target', 'target_names', 'DESCR', 'feature_names']"
      ]
     },
     "execution_count": 3,
     "metadata": {},
     "output_type": "execute_result"
    }
   ],
   "source": [
    "iris = datasets.load_iris()\n",
    "list(iris.keys())"
   ]
  },
  {
   "cell_type": "code",
   "execution_count": 4,
   "metadata": {},
   "outputs": [],
   "source": [
    "X,y_ = iris['data'], iris['target'].reshape(-1, 1)"
   ]
  },
  {
   "cell_type": "code",
   "execution_count": 5,
   "metadata": {},
   "outputs": [],
   "source": [
    "encoder = OneHotEncoder(sparse=False)\n",
    "y = encoder.fit_transform(y_)"
   ]
  },
  {
   "cell_type": "code",
   "execution_count": 6,
   "metadata": {},
   "outputs": [],
   "source": [
    "X_train, X_test, y_train, y_test = train_test_split(X, y, test_size=0.3, random_state=42)"
   ]
  },
  {
   "cell_type": "code",
   "execution_count": 7,
   "metadata": {},
   "outputs": [],
   "source": [
    "neurons = [5,10,15]"
   ]
  },
  {
   "cell_type": "markdown",
   "metadata": {},
   "source": [
    "# Create a model "
   ]
  },
  {
   "cell_type": "code",
   "execution_count": 53,
   "metadata": {},
   "outputs": [],
   "source": [
    "model = Sequential()\n",
    "model.add(Dense(6, input_dim=4, activation='tanh')) \n",
    "model.add(Dense(10, activation='tanh')) # \n",
    "model.add(Dense(3, activation='softmax')) # input 1, activation sigmoid"
   ]
  },
  {
   "cell_type": "code",
   "execution_count": 54,
   "metadata": {},
   "outputs": [
    {
     "name": "stdout",
     "output_type": "stream",
     "text": [
      "Epoch 1/100\n",
      "105/105 [==============================] - 1s 6ms/step - loss: 0.6771 - acc: 0.6286\n",
      "Epoch 2/100\n",
      "105/105 [==============================] - 0s 320us/step - loss: 0.6557 - acc: 0.6667\n",
      "Epoch 3/100\n",
      "105/105 [==============================] - 0s 324us/step - loss: 0.6444 - acc: 0.6667\n",
      "Epoch 4/100\n",
      "105/105 [==============================] - 0s 324us/step - loss: 0.6385 - acc: 0.6667\n",
      "Epoch 5/100\n",
      "105/105 [==============================] - 0s 323us/step - loss: 0.6357 - acc: 0.6667\n",
      "Epoch 6/100\n",
      "105/105 [==============================] - 0s 334us/step - loss: 0.6295 - acc: 0.6667\n",
      "Epoch 7/100\n",
      "105/105 [==============================] - 0s 358us/step - loss: 0.6250 - acc: 0.6667\n",
      "Epoch 8/100\n",
      "105/105 [==============================] - 0s 322us/step - loss: 0.6223 - acc: 0.6667\n",
      "Epoch 9/100\n",
      "105/105 [==============================] - 0s 336us/step - loss: 0.6188 - acc: 0.6667\n",
      "Epoch 10/100\n",
      "105/105 [==============================] - 0s 328us/step - loss: 0.6124 - acc: 0.6667\n",
      "Epoch 11/100\n",
      "105/105 [==============================] - 0s 334us/step - loss: 0.6041 - acc: 0.6667\n",
      "Epoch 12/100\n",
      "105/105 [==============================] - 0s 316us/step - loss: 0.5975 - acc: 0.6667\n",
      "Epoch 13/100\n",
      "105/105 [==============================] - 0s 319us/step - loss: 0.5828 - acc: 0.6698\n",
      "Epoch 14/100\n",
      "105/105 [==============================] - 0s 328us/step - loss: 0.5690 - acc: 0.6698\n",
      "Epoch 15/100\n",
      "105/105 [==============================] - 0s 326us/step - loss: 0.5538 - acc: 0.6667\n",
      "Epoch 16/100\n",
      "105/105 [==============================] - 0s 329us/step - loss: 0.5319 - acc: 0.6730\n",
      "Epoch 17/100\n",
      "105/105 [==============================] - 0s 320us/step - loss: 0.5135 - acc: 0.7048\n",
      "Epoch 18/100\n",
      "105/105 [==============================] - 0s 320us/step - loss: 0.4925 - acc: 0.7619\n",
      "Epoch 19/100\n",
      "105/105 [==============================] - 0s 318us/step - loss: 0.4687 - acc: 0.7810\n",
      "Epoch 20/100\n",
      "105/105 [==============================] - 0s 329us/step - loss: 0.4496 - acc: 0.7651\n",
      "Epoch 21/100\n",
      "105/105 [==============================] - 0s 343us/step - loss: 0.4279 - acc: 0.8063\n",
      "Epoch 22/100\n",
      "105/105 [==============================] - 0s 338us/step - loss: 0.4069 - acc: 0.8222\n",
      "Epoch 23/100\n",
      "105/105 [==============================] - 0s 319us/step - loss: 0.3906 - acc: 0.8286\n",
      "Epoch 24/100\n",
      "105/105 [==============================] - 0s 326us/step - loss: 0.3770 - acc: 0.8444\n",
      "Epoch 25/100\n",
      "105/105 [==============================] - 0s 334us/step - loss: 0.3593 - acc: 0.8635\n",
      "Epoch 26/100\n",
      "105/105 [==============================] - 0s 327us/step - loss: 0.3473 - acc: 0.8698\n",
      "Epoch 27/100\n",
      "105/105 [==============================] - 0s 317us/step - loss: 0.3386 - acc: 0.8603\n",
      "Epoch 28/100\n",
      "105/105 [==============================] - 0s 340us/step - loss: 0.3233 - acc: 0.8984\n",
      "Epoch 29/100\n",
      "105/105 [==============================] - 0s 327us/step - loss: 0.3134 - acc: 0.8984\n",
      "Epoch 30/100\n",
      "105/105 [==============================] - 0s 347us/step - loss: 0.3005 - acc: 0.9302\n",
      "Epoch 31/100\n",
      "105/105 [==============================] - 0s 331us/step - loss: 0.2922 - acc: 0.9270\n",
      "Epoch 32/100\n",
      "105/105 [==============================] - 0s 324us/step - loss: 0.2845 - acc: 0.9302\n",
      "Epoch 33/100\n",
      "105/105 [==============================] - 0s 347us/step - loss: 0.2751 - acc: 0.9238\n",
      "Epoch 34/100\n",
      "105/105 [==============================] - 0s 347us/step - loss: 0.2659 - acc: 0.9397\n",
      "Epoch 35/100\n",
      "105/105 [==============================] - 0s 330us/step - loss: 0.2594 - acc: 0.9333\n",
      "Epoch 36/100\n",
      "105/105 [==============================] - 0s 321us/step - loss: 0.2567 - acc: 0.9365\n",
      "Epoch 37/100\n",
      "105/105 [==============================] - 0s 334us/step - loss: 0.2503 - acc: 0.9238\n",
      "Epoch 38/100\n",
      "105/105 [==============================] - 0s 335us/step - loss: 0.2358 - acc: 0.9524\n",
      "Epoch 39/100\n",
      "105/105 [==============================] - 0s 346us/step - loss: 0.2320 - acc: 0.9460\n",
      "Epoch 40/100\n",
      "105/105 [==============================] - 0s 323us/step - loss: 0.2258 - acc: 0.9556\n",
      "Epoch 41/100\n",
      "105/105 [==============================] - 0s 329us/step - loss: 0.2230 - acc: 0.9429\n",
      "Epoch 42/100\n",
      "105/105 [==============================] - 0s 321us/step - loss: 0.2137 - acc: 0.9556\n",
      "Epoch 43/100\n",
      "105/105 [==============================] - 0s 335us/step - loss: 0.2075 - acc: 0.9651\n",
      "Epoch 44/100\n",
      "105/105 [==============================] - 0s 337us/step - loss: 0.2016 - acc: 0.9556\n",
      "Epoch 45/100\n",
      "105/105 [==============================] - 0s 287us/step - loss: 0.1972 - acc: 0.9651\n",
      "Epoch 46/100\n",
      "105/105 [==============================] - 0s 285us/step - loss: 0.1910 - acc: 0.9524\n",
      "Epoch 47/100\n",
      "105/105 [==============================] - 0s 305us/step - loss: 0.1872 - acc: 0.9619\n",
      "Epoch 48/100\n",
      "105/105 [==============================] - 0s 290us/step - loss: 0.1823 - acc: 0.9746\n",
      "Epoch 49/100\n",
      "105/105 [==============================] - 0s 300us/step - loss: 0.1775 - acc: 0.9587\n",
      "Epoch 50/100\n",
      "105/105 [==============================] - 0s 306us/step - loss: 0.1726 - acc: 0.9714\n",
      "Epoch 51/100\n",
      "105/105 [==============================] - 0s 295us/step - loss: 0.1713 - acc: 0.9746\n",
      "Epoch 52/100\n",
      "105/105 [==============================] - 0s 313us/step - loss: 0.1645 - acc: 0.9492\n",
      "Epoch 53/100\n",
      "105/105 [==============================] - 0s 322us/step - loss: 0.1642 - acc: 0.9746\n",
      "Epoch 54/100\n",
      "105/105 [==============================] - 0s 324us/step - loss: 0.1569 - acc: 0.9492\n",
      "Epoch 55/100\n",
      "105/105 [==============================] - 0s 305us/step - loss: 0.1533 - acc: 0.9619\n",
      "Epoch 56/100\n",
      "105/105 [==============================] - 0s 286us/step - loss: 0.1516 - acc: 0.9714\n",
      "Epoch 57/100\n",
      "105/105 [==============================] - 0s 298us/step - loss: 0.1469 - acc: 0.9746\n",
      "Epoch 58/100\n",
      "105/105 [==============================] - 0s 295us/step - loss: 0.1439 - acc: 0.9524\n",
      "Epoch 59/100\n",
      "105/105 [==============================] - 0s 308us/step - loss: 0.1401 - acc: 0.9746\n",
      "Epoch 60/100\n",
      "105/105 [==============================] - 0s 290us/step - loss: 0.1367 - acc: 0.9746\n",
      "Epoch 61/100\n",
      "105/105 [==============================] - 0s 294us/step - loss: 0.1346 - acc: 0.9651\n",
      "Epoch 62/100\n",
      "105/105 [==============================] - 0s 296us/step - loss: 0.1336 - acc: 0.9746\n",
      "Epoch 63/100\n",
      "105/105 [==============================] - 0s 317us/step - loss: 0.1302 - acc: 0.9492\n",
      "Epoch 64/100\n",
      "105/105 [==============================] - 0s 314us/step - loss: 0.1272 - acc: 0.9746\n",
      "Epoch 65/100\n",
      "105/105 [==============================] - 0s 310us/step - loss: 0.1262 - acc: 0.9556\n",
      "Epoch 66/100\n",
      "105/105 [==============================] - 0s 333us/step - loss: 0.1242 - acc: 0.9746\n",
      "Epoch 67/100\n",
      "105/105 [==============================] - 0s 326us/step - loss: 0.1240 - acc: 0.9492\n",
      "Epoch 68/100\n",
      "105/105 [==============================] - 0s 321us/step - loss: 0.1187 - acc: 0.9746\n",
      "Epoch 69/100\n",
      "105/105 [==============================] - 0s 319us/step - loss: 0.1247 - acc: 0.9587\n",
      "Epoch 70/100\n",
      "105/105 [==============================] - 0s 316us/step - loss: 0.1189 - acc: 0.9746\n",
      "Epoch 71/100\n",
      "105/105 [==============================] - 0s 318us/step - loss: 0.1131 - acc: 0.9556\n",
      "Epoch 72/100\n",
      "105/105 [==============================] - 0s 313us/step - loss: 0.1156 - acc: 0.9746\n",
      "Epoch 73/100\n",
      "105/105 [==============================] - 0s 315us/step - loss: 0.1093 - acc: 0.9619\n",
      "Epoch 74/100\n",
      "105/105 [==============================] - 0s 316us/step - loss: 0.1075 - acc: 0.9683\n",
      "Epoch 75/100\n",
      "105/105 [==============================] - 0s 320us/step - loss: 0.1040 - acc: 0.9746\n",
      "Epoch 76/100\n",
      "105/105 [==============================] - 0s 310us/step - loss: 0.1048 - acc: 0.9556\n",
      "Epoch 77/100\n",
      "105/105 [==============================] - 0s 312us/step - loss: 0.1008 - acc: 0.9746\n",
      "Epoch 78/100\n",
      "105/105 [==============================] - 0s 310us/step - loss: 0.1014 - acc: 0.9746\n",
      "Epoch 79/100\n",
      "105/105 [==============================] - 0s 307us/step - loss: 0.1006 - acc: 0.9746\n",
      "Epoch 80/100\n",
      "105/105 [==============================] - 0s 316us/step - loss: 0.0992 - acc: 0.9746\n",
      "Epoch 81/100\n",
      "105/105 [==============================] - 0s 337us/step - loss: 0.0975 - acc: 0.9587\n",
      "Epoch 82/100\n",
      "105/105 [==============================] - 0s 336us/step - loss: 0.0950 - acc: 0.9746\n",
      "Epoch 83/100\n"
     ]
    },
    {
     "name": "stdout",
     "output_type": "stream",
     "text": [
      "105/105 [==============================] - 0s 336us/step - loss: 0.0974 - acc: 0.9746\n",
      "Epoch 84/100\n",
      "105/105 [==============================] - 0s 337us/step - loss: 0.0946 - acc: 0.9683\n",
      "Epoch 85/100\n",
      "105/105 [==============================] - 0s 333us/step - loss: 0.1013 - acc: 0.9556\n",
      "Epoch 86/100\n",
      "105/105 [==============================] - 0s 322us/step - loss: 0.0962 - acc: 0.9746\n",
      "Epoch 87/100\n",
      "105/105 [==============================] - 0s 309us/step - loss: 0.0883 - acc: 0.9810\n",
      "Epoch 88/100\n",
      "105/105 [==============================] - 0s 316us/step - loss: 0.0911 - acc: 0.9746\n",
      "Epoch 89/100\n",
      "105/105 [==============================] - 0s 312us/step - loss: 0.0923 - acc: 0.9619\n",
      "Epoch 90/100\n",
      "105/105 [==============================] - 0s 334us/step - loss: 0.0888 - acc: 0.9746\n",
      "Epoch 91/100\n",
      "105/105 [==============================] - 0s 344us/step - loss: 0.0948 - acc: 0.9619\n",
      "Epoch 92/100\n",
      "105/105 [==============================] - 0s 320us/step - loss: 0.0824 - acc: 0.9746\n",
      "Epoch 93/100\n",
      "105/105 [==============================] - 0s 336us/step - loss: 0.0825 - acc: 0.9810\n",
      "Epoch 94/100\n",
      "105/105 [==============================] - 0s 306us/step - loss: 0.0837 - acc: 0.9778\n",
      "Epoch 95/100\n",
      "105/105 [==============================] - 0s 316us/step - loss: 0.0848 - acc: 0.9746\n",
      "Epoch 96/100\n",
      "105/105 [==============================] - 0s 296us/step - loss: 0.0812 - acc: 0.9810\n",
      "Epoch 97/100\n",
      "105/105 [==============================] - 0s 321us/step - loss: 0.0795 - acc: 0.9746\n",
      "Epoch 98/100\n",
      "105/105 [==============================] - 0s 299us/step - loss: 0.0826 - acc: 0.9619\n",
      "Epoch 99/100\n",
      "105/105 [==============================] - 0s 321us/step - loss: 0.0804 - acc: 0.9746\n",
      "Epoch 100/100\n",
      "105/105 [==============================] - 0s 332us/step - loss: 0.0764 - acc: 0.9746\n"
     ]
    },
    {
     "data": {
      "text/plain": [
       "<keras.callbacks.History at 0x1227e3358>"
      ]
     },
     "execution_count": 54,
     "metadata": {},
     "output_type": "execute_result"
    }
   ],
   "source": [
    "# Compile model\n",
    "model.compile(loss='binary_crossentropy', optimizer='adam', metrics=['accuracy'])\n",
    "# Fit the model (X is features, Y is output, this is for training data)\n",
    "model.fit(X_train, y_train, epochs=100, batch_size=5)"
   ]
  },
  {
   "cell_type": "code",
   "execution_count": 55,
   "metadata": {},
   "outputs": [
    {
     "name": "stdout",
     "output_type": "stream",
     "text": [
      "45/45 [==============================] - 0s 4ms/step\n",
      "\n",
      "acc: 100.00%\n"
     ]
    }
   ],
   "source": [
    "scores = model.evaluate(X_test, y_test)\n",
    "print(\"\\n%s: %.2f%%\" % (model.metrics_names[1], scores[1]*100))\n"
   ]
  },
  {
   "cell_type": "markdown",
   "metadata": {},
   "source": [
    "# Discussion\n",
    "Got 98,52% on the test set with one hidden layer, so added an additional hidden layer\n",
    "\n",
    "Input neurons = 4 since we have 4 columns\n",
    "<br>\n",
    "Hidden layer 1 = thumb rule 2/3*input + output size = 5,64 \n",
    "<br>\n",
    "Hidden layer 2 = Added som additional neurons.\n",
    "<br>\n",
    "Output neurons = 3 since we have 3 classes (100,010,001)"
   ]
  },
  {
   "cell_type": "code",
   "execution_count": null,
   "metadata": {},
   "outputs": [],
   "source": []
  }
 ],
 "metadata": {
  "kernelspec": {
   "display_name": "Python 3",
   "language": "python",
   "name": "python3"
  },
  "language_info": {
   "codemirror_mode": {
    "name": "ipython",
    "version": 3
   },
   "file_extension": ".py",
   "mimetype": "text/x-python",
   "name": "python",
   "nbconvert_exporter": "python",
   "pygments_lexer": "ipython3",
   "version": "3.6.3"
  }
 },
 "nbformat": 4,
 "nbformat_minor": 2
}
